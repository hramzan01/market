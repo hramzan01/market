{
 "cells": [
  {
   "cell_type": "markdown",
   "id": "921fce54-24a6-40c9-857b-404a4211059e",
   "metadata": {},
   "source": [
    "# Household energy consumption data analysis of ACORN A"
   ]
  },
  {
   "cell_type": "markdown",
   "id": "7a61fe58",
   "metadata": {},
   "source": [
    "## 0.0 Package imports"
   ]
  },
  {
   "cell_type": "code",
   "execution_count": 6,
   "id": "1f15afac",
   "metadata": {},
   "outputs": [],
   "source": [
    "import pandas as pd\n",
    "import numpy as np\n",
    "import matplotlib.pyplot as plt"
   ]
  },
  {
   "cell_type": "code",
   "execution_count": 17,
   "id": "63bef6f3-1702-4c1d-a5c3-dd380c8fe0cc",
   "metadata": {},
   "outputs": [],
   "source": [
    "import warnings\n",
    "pd.set_option('mode.chained_assignment', None)"
   ]
  },
  {
   "cell_type": "markdown",
   "id": "1aa90623",
   "metadata": {},
   "source": [
    "## 1.0 Data imports"
   ]
  },
  {
   "cell_type": "markdown",
   "id": "6814dd7a",
   "metadata": {},
   "source": [
    "Data import is from Kaggle:\n",
    "https://www.kaggle.com/datasets/jeanmidev/smart-meters-in-london/data"
   ]
  },
  {
   "cell_type": "code",
   "execution_count": 8,
   "id": "c6ff053d",
   "metadata": {},
   "outputs": [],
   "source": [
    "# find path to full data set\n",
    "import os\n",
    "path = '/home/adam/code/hramzan01/market/raw_data'\n",
    "path_data = path + '/halfhourfulldata'\n",
    "path_results = path + '/ACORN_A.csv'"
   ]
  },
  {
   "cell_type": "markdown",
   "id": "038fb1b3-24ec-40e6-871a-5e1af3a84ff4",
   "metadata": {},
   "source": [
    "## 2.0 Set up data base for storing data"
   ]
  },
  {
   "cell_type": "code",
   "execution_count": 9,
   "id": "2a4d821f-1c3f-48e6-bacc-e2faf8a096b9",
   "metadata": {},
   "outputs": [],
   "source": [
    "# set up initial data base\n",
    "df_A = pd.DataFrame(columns=['LCLid', 'tstp','energy(kWh/hh)','stdorToU','Acorn','Acorn_grouped','file']) \n",
    "df_A.to_csv(path_results)\n"
   ]
  },
  {
   "cell_type": "code",
   "execution_count": 10,
   "id": "d54d2fb1-9be3-482c-9e27-9e365caecbc5",
   "metadata": {},
   "outputs": [
    {
     "data": {
      "text/html": [
       "<div>\n",
       "<style scoped>\n",
       "    .dataframe tbody tr th:only-of-type {\n",
       "        vertical-align: middle;\n",
       "    }\n",
       "\n",
       "    .dataframe tbody tr th {\n",
       "        vertical-align: top;\n",
       "    }\n",
       "\n",
       "    .dataframe thead th {\n",
       "        text-align: right;\n",
       "    }\n",
       "</style>\n",
       "<table border=\"1\" class=\"dataframe\">\n",
       "  <thead>\n",
       "    <tr style=\"text-align: right;\">\n",
       "      <th></th>\n",
       "      <th>LCLid</th>\n",
       "      <th>stdorToU</th>\n",
       "      <th>Acorn</th>\n",
       "      <th>Acorn_grouped</th>\n",
       "      <th>file</th>\n",
       "    </tr>\n",
       "  </thead>\n",
       "  <tbody>\n",
       "    <tr>\n",
       "      <th>0</th>\n",
       "      <td>MAC005492</td>\n",
       "      <td>ToU</td>\n",
       "      <td>ACORN-</td>\n",
       "      <td>ACORN-</td>\n",
       "      <td>block_0</td>\n",
       "    </tr>\n",
       "    <tr>\n",
       "      <th>1</th>\n",
       "      <td>MAC001074</td>\n",
       "      <td>ToU</td>\n",
       "      <td>ACORN-</td>\n",
       "      <td>ACORN-</td>\n",
       "      <td>block_0</td>\n",
       "    </tr>\n",
       "    <tr>\n",
       "      <th>2</th>\n",
       "      <td>MAC000002</td>\n",
       "      <td>Std</td>\n",
       "      <td>ACORN-A</td>\n",
       "      <td>Affluent</td>\n",
       "      <td>block_0</td>\n",
       "    </tr>\n",
       "    <tr>\n",
       "      <th>3</th>\n",
       "      <td>MAC003613</td>\n",
       "      <td>Std</td>\n",
       "      <td>ACORN-A</td>\n",
       "      <td>Affluent</td>\n",
       "      <td>block_0</td>\n",
       "    </tr>\n",
       "    <tr>\n",
       "      <th>4</th>\n",
       "      <td>MAC003597</td>\n",
       "      <td>Std</td>\n",
       "      <td>ACORN-A</td>\n",
       "      <td>Affluent</td>\n",
       "      <td>block_0</td>\n",
       "    </tr>\n",
       "  </tbody>\n",
       "</table>\n",
       "</div>"
      ],
      "text/plain": [
       "       LCLid stdorToU    Acorn Acorn_grouped     file\n",
       "0  MAC005492      ToU   ACORN-        ACORN-  block_0\n",
       "1  MAC001074      ToU   ACORN-        ACORN-  block_0\n",
       "2  MAC000002      Std  ACORN-A      Affluent  block_0\n",
       "3  MAC003613      Std  ACORN-A      Affluent  block_0\n",
       "4  MAC003597      Std  ACORN-A      Affluent  block_0"
      ]
     },
     "execution_count": 10,
     "metadata": {},
     "output_type": "execute_result"
    }
   ],
   "source": [
    "# load household info data\n",
    "house_path = path + '/informations_households.csv'\n",
    "house_data = pd.read_csv(house_path)\n",
    "house_data.head()"
   ]
  },
  {
   "cell_type": "markdown",
   "id": "9ada1832-dc92-43bc-874e-612cea23424f",
   "metadata": {},
   "source": [
    "## 3.0 open each file and extract Acorn A data"
   ]
  },
  {
   "cell_type": "code",
   "execution_count": 18,
   "id": "2428a046-c42c-4886-8dd9-e4e5fda4173c",
   "metadata": {},
   "outputs": [
    {
     "data": {
      "text/plain": [
       "[2701275, 3886685, 5402550]"
      ]
     },
     "execution_count": 18,
     "metadata": {},
     "output_type": "execute_result"
    }
   ],
   "source": [
    "lengths = []\n",
    "# need i = 112 for full data set\n",
    "for i in range (3):\n",
    "    # load each data entry\n",
    "    hour_data = pd.read_csv(path_data + f'/block_{i}.csv')\n",
    "    # merge the data with the acorn information\n",
    "    data_merged = hour_data.merge(house_data, how = 'left', left_on='LCLid', right_on='LCLid')\n",
    "    # find entries which are ACORN-A\n",
    "    df_A = data_merged[data_merged['Acorn'] == 'ACORN-A']\n",
    "    # remove null values\n",
    "    df_A['energy(kWh/hh)'] = df_A['energy(kWh/hh)'].replace('Null', '0')\n",
    "    # convert time to string and energy column to numerical values\n",
    "    df_A['tstp'] = df_A['tstp'].astype(\"string\")\n",
    "    df_A['energy(kWh/hh)'] = df_A['energy(kWh/hh)'].apply(pd.to_numeric)\n",
    "\n",
    "    # open the current Acorn A\n",
    "    df_A_full = pd.read_csv(path_results)\n",
    "    lengths.append(len(df_A_full))\n",
    "    # concat the new data\n",
    "    df_A_full = pd.concat([df_A_full,df_A])\n",
    "    # save the new data\n",
    "    df_A_full.to_csv(path_results)\n",
    "lengths"
   ]
  },
  {
   "cell_type": "markdown",
   "id": "470f522a-5905-4bc3-97e0-5af82f54a032",
   "metadata": {},
   "source": [
    "## 4.0 Take mean of each time and store"
   ]
  },
  {
   "cell_type": "code",
   "execution_count": 23,
   "id": "eae786b4-8f2a-43c9-8021-e128a131c34b",
   "metadata": {},
   "outputs": [],
   "source": [
    "# find mean for each timestep\n",
    "df_A_timeseries = df_A_full.groupby('tstp')[['energy(kWh/hh)']].mean()"
   ]
  },
  {
   "cell_type": "code",
   "execution_count": 24,
   "id": "82f48934-86bf-44e8-9fcd-d399e82e6eee",
   "metadata": {},
   "outputs": [],
   "source": [
    "# reset index\n",
    "df_A_timeseries.reset_index(inplace=True)"
   ]
  },
  {
   "cell_type": "code",
   "execution_count": 27,
   "id": "c82d1e8b-5b61-40a0-87e8-9205c2e394f3",
   "metadata": {},
   "outputs": [
    {
     "data": {
      "text/html": [
       "<div>\n",
       "<style scoped>\n",
       "    .dataframe tbody tr th:only-of-type {\n",
       "        vertical-align: middle;\n",
       "    }\n",
       "\n",
       "    .dataframe tbody tr th {\n",
       "        vertical-align: top;\n",
       "    }\n",
       "\n",
       "    .dataframe thead th {\n",
       "        text-align: right;\n",
       "    }\n",
       "</style>\n",
       "<table border=\"1\" class=\"dataframe\">\n",
       "  <thead>\n",
       "    <tr style=\"text-align: right;\">\n",
       "      <th></th>\n",
       "      <th>date</th>\n",
       "      <th>Average energy(kWh/hh)</th>\n",
       "    </tr>\n",
       "  </thead>\n",
       "  <tbody>\n",
       "    <tr>\n",
       "      <th>0</th>\n",
       "      <td>2011-12-03 09:00:00.0000000</td>\n",
       "      <td>0.149000</td>\n",
       "    </tr>\n",
       "    <tr>\n",
       "      <th>1</th>\n",
       "      <td>2011-12-03 09:30:00.0000000</td>\n",
       "      <td>0.154000</td>\n",
       "    </tr>\n",
       "    <tr>\n",
       "      <th>2</th>\n",
       "      <td>2011-12-03 10:00:00.0000000</td>\n",
       "      <td>0.768000</td>\n",
       "    </tr>\n",
       "    <tr>\n",
       "      <th>3</th>\n",
       "      <td>2011-12-03 10:30:00.0000000</td>\n",
       "      <td>1.179000</td>\n",
       "    </tr>\n",
       "    <tr>\n",
       "      <th>4</th>\n",
       "      <td>2011-12-03 11:00:00.0000000</td>\n",
       "      <td>0.588000</td>\n",
       "    </tr>\n",
       "    <tr>\n",
       "      <th>...</th>\n",
       "      <td>...</td>\n",
       "      <td>...</td>\n",
       "    </tr>\n",
       "    <tr>\n",
       "      <th>39378</th>\n",
       "      <td>2014-02-27 22:00:00.0000000</td>\n",
       "      <td>0.594135</td>\n",
       "    </tr>\n",
       "    <tr>\n",
       "      <th>39379</th>\n",
       "      <td>2014-02-27 22:30:00.0000000</td>\n",
       "      <td>0.563442</td>\n",
       "    </tr>\n",
       "    <tr>\n",
       "      <th>39380</th>\n",
       "      <td>2014-02-27 23:00:00.0000000</td>\n",
       "      <td>0.510795</td>\n",
       "    </tr>\n",
       "    <tr>\n",
       "      <th>39381</th>\n",
       "      <td>2014-02-27 23:30:00.0000000</td>\n",
       "      <td>0.408642</td>\n",
       "    </tr>\n",
       "    <tr>\n",
       "      <th>39382</th>\n",
       "      <td>2014-02-28 00:00:00.0000000</td>\n",
       "      <td>0.308428</td>\n",
       "    </tr>\n",
       "  </tbody>\n",
       "</table>\n",
       "<p>39383 rows × 2 columns</p>\n",
       "</div>"
      ],
      "text/plain": [
       "                              date  Average energy(kWh/hh)\n",
       "0      2011-12-03 09:00:00.0000000                0.149000\n",
       "1      2011-12-03 09:30:00.0000000                0.154000\n",
       "2      2011-12-03 10:00:00.0000000                0.768000\n",
       "3      2011-12-03 10:30:00.0000000                1.179000\n",
       "4      2011-12-03 11:00:00.0000000                0.588000\n",
       "...                            ...                     ...\n",
       "39378  2014-02-27 22:00:00.0000000                0.594135\n",
       "39379  2014-02-27 22:30:00.0000000                0.563442\n",
       "39380  2014-02-27 23:00:00.0000000                0.510795\n",
       "39381  2014-02-27 23:30:00.0000000                0.408642\n",
       "39382  2014-02-28 00:00:00.0000000                0.308428\n",
       "\n",
       "[39383 rows x 2 columns]"
      ]
     },
     "execution_count": 27,
     "metadata": {},
     "output_type": "execute_result"
    }
   ],
   "source": [
    "df_A_timeseries.rename(columns = {'tstp':'date','energy(kWh/hh)':'Average energy(kWh/hh)'}, inplace=True)\n",
    "df_A_timeseries"
   ]
  },
  {
   "cell_type": "markdown",
   "id": "3c8b8700-f9c8-4541-a59e-7cc7007ff424",
   "metadata": {},
   "source": [
    "## 5.0 Plot the new data"
   ]
  },
  {
   "cell_type": "code",
   "execution_count": 43,
   "id": "c39269ee-825d-4ed9-8f1f-b0f58bcd6edd",
   "metadata": {},
   "outputs": [
    {
     "data": {
      "text/plain": [
       "([<matplotlib.axis.XTick at 0x7f8ea79499c0>,\n",
       "  <matplotlib.axis.XTick at 0x7f8ea7949960>],\n",
       " [Text(0.0, 0, '2011-12-03 09:00:00.0000000'),\n",
       "  Text(800.0, 0, '2014-02-07 13:00:00.0000000')])"
      ]
     },
     "execution_count": 43,
     "metadata": {},
     "output_type": "execute_result"
    },
    {
     "data": {
      "image/png": "[encoded data removed]",
      "text/plain": [
       "<Figure size 640x480 with 1 Axes>"
      ]
     },
     "metadata": {},
     "output_type": "display_data"
    }
   ],
   "source": [
    "df_A_sampled = df_A_timeseries.iloc[::48, :]\n",
    "plt.plot(df_A_sampled['date'], df_A_sampled['Average energy(kWh/hh)'])\n",
    "plt.xlabel('Time')\n",
    "plt.ylabel('Energy kwh/h')\n",
    "plt.xticks([df_A_sampled['date'][0],df_A_sampled['date'][800*48]])"
   ]
  },
  {
   "cell_type": "markdown",
   "id": "e37d9907-7a39-46b0-847c-dbc0f8bebe4a",
   "metadata": {},
   "source": [
    "## 6.0 Save new dataframe"
   ]
  },
  {
   "cell_type": "code",
   "execution_count": 29,
   "id": "3ebcb7ad-6629-4e1b-abd0-3113d310decb",
   "metadata": {},
   "outputs": [],
   "source": [
    "df_A_timeseries.to_csv(path + '/ACORN_A_processed.csv')"
   ]
  },
  {
   "cell_type": "code",
   "execution_count": null,
   "id": "f380bddf-bd6c-462f-b713-5af98ef3e081",
   "metadata": {},
   "outputs": [],
   "source": []
  }
 ],
 "metadata": {
  "kernelspec": {
   "display_name": "Python 3 (ipykernel)",
   "language": "python",
   "name": "python3"
  },
  "language_info": {
   "codemirror_mode": {
    "name": "ipython",
    "version": 3
   },
   "file_extension": ".py",
   "mimetype": "text/x-python",
   "name": "python",
   "nbconvert_exporter": "python",
   "pygments_lexer": "ipython3",
   "version": "3.10.6"
  }
 },
 "nbformat": 4,
 "nbformat_minor": 5
}
