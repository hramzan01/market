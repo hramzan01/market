{
 "cells": [
  {
   "cell_type": "markdown",
   "metadata": {},
   "source": [
    " # Model for defining acorn of a particular household"
   ]
  },
  {
   "cell_type": "markdown",
   "metadata": {},
   "source": [
    "A logistic regression model may be viable based on the acorn dataset. \n",
    "\n",
    "This notebook will explore a simple method of assigning the acorn based on known papramters"
   ]
  },
  {
   "cell_type": "markdown",
   "metadata": {},
   "source": [
    "# 0.0 Imports"
   ]
  },
  {
   "cell_type": "markdown",
   "metadata": {},
   "source": []
  },
  {
   "cell_type": "code",
   "execution_count": 48,
   "metadata": {},
   "outputs": [],
   "source": [
    "import numpy as np\n",
    "import string"
   ]
  },
  {
   "cell_type": "markdown",
   "metadata": {},
   "source": [
    "# 1.0 Data"
   ]
  },
  {
   "cell_type": "code",
   "execution_count": 16,
   "metadata": {},
   "outputs": [],
   "source": [
    "# House Price\n",
    "# A = '<100k', B = '100k-150k',  = '150k-250k'\n",
    "# D = '250k-500k', E = '500k-750k', F = '750k-1m', G = '>1000k'\n",
    "Ha = [13,17,16,38,40,35,36,35,36,37,144,180,159,205,252,226,326]\n",
    "Hb = [35,32,46,40,85,89,77,133,163,112,152,149,142,204,123,78,103]\n",
    "Hc = [42,66,117,39,83,144,154,143,145,193,91,90,85,65,59,58,62]\n",
    "Hd = [76,161,146,123,136,119,107,88,69,62,82,65,86,41,59,98,24]\n",
    "He = [111,268,164,174,184,68,99,92,90,52,26,25,24,25,46,57,48]\n",
    "Hf = [156,317,201,89,94,41,44,41,42,43,49,48,46,48,84,82,89]\n",
    "Hg = [1805,124,56,1002,111,43,47,43,44,45,31,30,29,30,36,35,38]"
   ]
  },
  {
   "cell_type": "code",
   "execution_count": 17,
   "metadata": {},
   "outputs": [],
   "source": [
    "# Income\n",
    "Ia = [19,30,65,43,55,78,60,73,131,70,115,111,129,219,134,154,218]\n",
    "Ib = [49,69,101,79,95,111,101,109,114,108,118,120,117,76,119,112,82]\n",
    "Ic = [112,127,123,125,131,119,130,124,80,128,94,97,84,33,79,64,28]\n",
    "Id = [200,189,134,170,152,113,142,121,58,125,66,69,55,14,47,35,10]\n",
    "Ie = [304,247,138,209,160,100,140,108,42,110,44,45,34,6,27,20,4]\n",
    "If = [11,332,131,267,152,74,119,80,24,78,24,22,16,2,11,9,1]\n",
    "Ig = [195,163,117,148,126,103,118,106,75,107,80,81,74,46,71,65,46]"
   ]
  },
  {
   "cell_type": "code",
   "execution_count": 18,
   "metadata": {},
   "outputs": [],
   "source": [
    "# House Type\n",
    "#a = Bungalow, b = Detached house, c =Flat or maisonette\n",
    "#d=Semi-detached house, e = Terraced house\n",
    "ta = [118,100,198,51,51,167,94,74,410,55,61,64,64,64,45,50,50]\n",
    "tb = [431,419,229,46,98,287,203,59,138,61,38,32,25,24,20,19,13]\n",
    "tc = [36,25,47,274,196,17,22,17,54,30,299,49,29,159,160,142,277]\n",
    "td = [56,70,139,36,66,119,96,192,172,102,33,72,139,125,39,92,52]\n",
    "te = [23,20,25,86,77,38,103,71,31,163,77,199,140,72,169,123,83]"
   ]
  },
  {
   "cell_type": "markdown",
   "metadata": {},
   "source": [
    "# 2.0 Collect input data from user"
   ]
  },
  {
   "cell_type": "code",
   "execution_count": 26,
   "metadata": {},
   "outputs": [],
   "source": [
    "# inputs needed\n",
    "H = 'a'\n",
    "I = 'd'\n",
    "t = 'e'"
   ]
  },
  {
   "cell_type": "markdown",
   "metadata": {},
   "source": [
    "# 3.0 use input data to return most likely acorn"
   ]
  },
  {
   "cell_type": "code",
   "execution_count": 29,
   "metadata": {},
   "outputs": [],
   "source": [
    "if H == 'a':\n",
    "    H_array = np.array(Ha)\n",
    "    total = np.sum(H_array)\n",
    "    weights_H = H_array/total\n",
    "elif H == 'b':\n",
    "    H_array = np.array(Hb)\n",
    "    total = np.sum(H_array)\n",
    "    weights_H = H_array/total\n",
    "elif H == 'c':\n",
    "    H_array = np.array(Hc)\n",
    "    total = np.sum(H_array)\n",
    "    weights_H = H_array/total\n",
    "elif H == 'd':\n",
    "    H_array = np.array(Hd)\n",
    "    total = np.sum(H_array)\n",
    "    weights_H = H_array/total\n",
    "elif H == 'e':\n",
    "    H_array = np.array(He)\n",
    "    total = np.sum(H_array)\n",
    "    weights_H = H_array/total\n",
    "elif H == 'f':\n",
    "    H_array = np.array(Hf)\n",
    "    total = np.sum(H_array)\n",
    "    weights_H = H_array/total\n",
    "else:\n",
    "    H_array = np.array(Hg)\n",
    "    total = np.sum(H_array)\n",
    "    weights_H = H_array/total"
   ]
  },
  {
   "cell_type": "code",
   "execution_count": 32,
   "metadata": {},
   "outputs": [],
   "source": [
    "if I == 'a':\n",
    "    I_array = np.array(Ia)\n",
    "    total = np.sum(I_array)\n",
    "    weights_I = I_array/total\n",
    "elif I == 'b':\n",
    "    I_array = np.array(Ib)\n",
    "    total = np.sum(I_array)\n",
    "    weights_I = I_array/total\n",
    "elif I == 'c':\n",
    "    I_array = np.array(Ic)\n",
    "    total = np.sum(I_array)\n",
    "    weights_I = I_array/total\n",
    "elif I == 'd':\n",
    "    I_array = np.array(Id)\n",
    "    total = np.sum(I_array)\n",
    "    weights_I = I_array/total\n",
    "elif I == 'e':\n",
    "    I_array = np.array(Ie)\n",
    "    total = np.sum(I_array)\n",
    "    weights_I = I_array/total\n",
    "elif I == 'f':\n",
    "    I_array = np.array(If)\n",
    "    total = np.sum(I_array)\n",
    "    weights_I = I_array/total\n",
    "else:\n",
    "    I_array = np.array(Ia)\n",
    "    total = np.sum(I_array)\n",
    "    weights_I = I_array/total"
   ]
  },
  {
   "cell_type": "code",
   "execution_count": 33,
   "metadata": {},
   "outputs": [],
   "source": [
    "if t == 'a':\n",
    "    t_array = np.array(ta)\n",
    "    total = np.sum(t_array)\n",
    "    weights_t = t_array/total\n",
    "elif t == 'b':\n",
    "    t_array = np.array(tb)\n",
    "    total = np.sum(t_array)\n",
    "    weights_t = t_array/total\n",
    "elif t == 'c':\n",
    "    t_array = np.array(tc)\n",
    "    total = np.sum(t_array)\n",
    "    weights_t = t_array/total\n",
    "elif t == 'd':\n",
    "    t_array = np.array(td)\n",
    "    total = np.sum(t_array)\n",
    "    weights_t = t_array/total\n",
    "else:\n",
    "    t_array = np.array(te)\n",
    "    total = np.sum(t_array)\n",
    "    weights_t = t_array/total"
   ]
  },
  {
   "cell_type": "code",
   "execution_count": 45,
   "metadata": {},
   "outputs": [
    {
     "data": {
      "text/plain": [
       "[0.1402227319897318,\n",
       " 0.1339805560107051,\n",
       " 0.10440384510350101,\n",
       " 0.17850324976787374,\n",
       " 0.1630292206018898,\n",
       " 0.11130252881096728,\n",
       " 0.17225178873777924,\n",
       " 0.13800841116390847,\n",
       " 0.07484002403189688,\n",
       " 0.20280889180184608,\n",
       " 0.1703797039707248,\n",
       " 0.2735334534928177,\n",
       " 0.21426566169643346,\n",
       " 0.17044142225135178,\n",
       " 0.2807036976350429,\n",
       " 0.2284935277732263,\n",
       " 0.24283128516030367]"
      ]
     },
     "execution_count": 45,
     "metadata": {},
     "output_type": "execute_result"
    }
   ],
   "source": [
    "total_weight = weights_H + weights_I + weights_t\n",
    "total_weight = list(total_weight)\n",
    "total_weight"
   ]
  },
  {
   "cell_type": "code",
   "execution_count": 43,
   "metadata": {},
   "outputs": [
    {
     "data": {
      "text/plain": [
       "14"
      ]
     },
     "execution_count": 43,
     "metadata": {},
     "output_type": "execute_result"
    }
   ],
   "source": [
    "max_val = max(total_weight)\n",
    "idx_max = total_weight.index(max_val)\n",
    "idx_max"
   ]
  },
  {
   "cell_type": "code",
   "execution_count": 60,
   "metadata": {},
   "outputs": [
    {
     "data": {
      "text/plain": [
       "'O'"
      ]
     },
     "execution_count": 60,
     "metadata": {},
     "output_type": "execute_result"
    }
   ],
   "source": [
    "# print most likely acorn\n",
    "ACORN = string.ascii_uppercase[idx_max]\n",
    "ACORN"
   ]
  }
 ],
 "metadata": {
  "kernelspec": {
   "display_name": "market",
   "language": "python",
   "name": "python3"
  },
  "language_info": {
   "codemirror_mode": {
    "name": "ipython",
    "version": 3
   },
   "file_extension": ".py",
   "mimetype": "text/x-python",
   "name": "python",
   "nbconvert_exporter": "python",
   "pygments_lexer": "ipython3",
   "version": "3.10.6"
  }
 },
 "nbformat": 4,
 "nbformat_minor": 2
}
