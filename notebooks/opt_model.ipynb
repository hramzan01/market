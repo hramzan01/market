{
 "cells": [
  {
   "cell_type": "markdown",
   "metadata": {},
   "source": [
    "## 0.0 Notebook Statement\n",
    "\n",
    "This will be the notebook for the final model to bring together all data in a final optimsaition\n",
    "\n",
    "The model in this notebook will work off the ernegy price, energy consumption and energy generation models with one week of data\n",
    "\n",
    "The model will predict three days of hourly energy storage"
   ]
  },
  {
   "cell_type": "markdown",
   "metadata": {},
   "source": [
    "# 1.0 Imports"
   ]
  },
  {
   "cell_type": "code",
   "execution_count": 37,
   "metadata": {},
   "outputs": [],
   "source": [
    "import numpy as np\n",
    "import pandas as pd\n",
    "from scipy.optimize import minimize\n",
    "from scipy.optimize import Bounds\n"
   ]
  },
  {
   "cell_type": "markdown",
   "metadata": {},
   "source": [
    "# 2.0 Generation of practice data"
   ]
  },
  {
   "cell_type": "code",
   "execution_count": 38,
   "metadata": {},
   "outputs": [],
   "source": [
    "# create sales data. Scale between 0.5 and 1\n",
    "sell = np.random.random((72,1))/5+0.2\n",
    "sell_price = pd.DataFrame(data=sell, columns=['SalePrice_£/kwh'])"
   ]
  },
  {
   "cell_type": "code",
   "execution_count": 39,
   "metadata": {},
   "outputs": [],
   "source": [
    "# create purchase data. Use a two time sell price multiplier\n",
    "purchase_price = sell_price.rename(columns={'SalePrice_£/kwh':'PurchasePrice_£/kwh'})\n",
    "purchase_price['PurchasePrice_£/kwh'] = purchase_price['PurchasePrice_£/kwh'].apply(lambda x: x*2)"
   ]
  },
  {
   "cell_type": "code",
   "execution_count": 40,
   "metadata": {},
   "outputs": [],
   "source": [
    "# create generation data. Average of 0.1 kwh per hour.\n",
    "generation = np.random.random((72,1))/2\n",
    "generation = pd.DataFrame(data=generation, columns=['Generation_kwh'])"
   ]
  },
  {
   "cell_type": "code",
   "execution_count": 41,
   "metadata": {},
   "outputs": [],
   "source": [
    "# create comsumption data. Average of 0.3 kwh per hour.\n",
    "consumption = np.random.random((72,1))/5+0.2\n",
    "consumption = pd.DataFrame(data=consumption, columns=['Consumption_kwh'])"
   ]
  },
  {
   "cell_type": "code",
   "execution_count": 42,
   "metadata": {},
   "outputs": [],
   "source": [
    "# combine all data\n",
    "df = pd.concat([sell_price, purchase_price, generation, consumption], axis=1)"
   ]
  },
  {
   "cell_type": "code",
   "execution_count": 43,
   "metadata": {},
   "outputs": [
    {
     "data": {
      "text/html": [
       "<div>\n",
       "<style scoped>\n",
       "    .dataframe tbody tr th:only-of-type {\n",
       "        vertical-align: middle;\n",
       "    }\n",
       "\n",
       "    .dataframe tbody tr th {\n",
       "        vertical-align: top;\n",
       "    }\n",
       "\n",
       "    .dataframe thead th {\n",
       "        text-align: right;\n",
       "    }\n",
       "</style>\n",
       "<table border=\"1\" class=\"dataframe\">\n",
       "  <thead>\n",
       "    <tr style=\"text-align: right;\">\n",
       "      <th></th>\n",
       "      <th>SalePrice_£/kwh</th>\n",
       "      <th>PurchasePrice_£/kwh</th>\n",
       "      <th>Generation_kwh</th>\n",
       "      <th>Consumption_kwh</th>\n",
       "    </tr>\n",
       "  </thead>\n",
       "  <tbody>\n",
       "    <tr>\n",
       "      <th>0</th>\n",
       "      <td>0.350348</td>\n",
       "      <td>0.700696</td>\n",
       "      <td>0.333470</td>\n",
       "      <td>0.300905</td>\n",
       "    </tr>\n",
       "    <tr>\n",
       "      <th>1</th>\n",
       "      <td>0.245152</td>\n",
       "      <td>0.490305</td>\n",
       "      <td>0.070384</td>\n",
       "      <td>0.274157</td>\n",
       "    </tr>\n",
       "    <tr>\n",
       "      <th>2</th>\n",
       "      <td>0.313164</td>\n",
       "      <td>0.626328</td>\n",
       "      <td>0.061990</td>\n",
       "      <td>0.360037</td>\n",
       "    </tr>\n",
       "    <tr>\n",
       "      <th>3</th>\n",
       "      <td>0.281366</td>\n",
       "      <td>0.562733</td>\n",
       "      <td>0.096241</td>\n",
       "      <td>0.382336</td>\n",
       "    </tr>\n",
       "    <tr>\n",
       "      <th>4</th>\n",
       "      <td>0.242793</td>\n",
       "      <td>0.485587</td>\n",
       "      <td>0.467314</td>\n",
       "      <td>0.235215</td>\n",
       "    </tr>\n",
       "    <tr>\n",
       "      <th>5</th>\n",
       "      <td>0.356433</td>\n",
       "      <td>0.712867</td>\n",
       "      <td>0.484503</td>\n",
       "      <td>0.289666</td>\n",
       "    </tr>\n",
       "    <tr>\n",
       "      <th>6</th>\n",
       "      <td>0.376478</td>\n",
       "      <td>0.752955</td>\n",
       "      <td>0.233296</td>\n",
       "      <td>0.328824</td>\n",
       "    </tr>\n",
       "    <tr>\n",
       "      <th>7</th>\n",
       "      <td>0.278191</td>\n",
       "      <td>0.556382</td>\n",
       "      <td>0.443396</td>\n",
       "      <td>0.365215</td>\n",
       "    </tr>\n",
       "    <tr>\n",
       "      <th>8</th>\n",
       "      <td>0.298817</td>\n",
       "      <td>0.597634</td>\n",
       "      <td>0.118079</td>\n",
       "      <td>0.278313</td>\n",
       "    </tr>\n",
       "    <tr>\n",
       "      <th>9</th>\n",
       "      <td>0.362085</td>\n",
       "      <td>0.724170</td>\n",
       "      <td>0.114780</td>\n",
       "      <td>0.264336</td>\n",
       "    </tr>\n",
       "    <tr>\n",
       "      <th>10</th>\n",
       "      <td>0.280876</td>\n",
       "      <td>0.561753</td>\n",
       "      <td>0.497414</td>\n",
       "      <td>0.319474</td>\n",
       "    </tr>\n",
       "    <tr>\n",
       "      <th>11</th>\n",
       "      <td>0.342156</td>\n",
       "      <td>0.684313</td>\n",
       "      <td>0.015132</td>\n",
       "      <td>0.284707</td>\n",
       "    </tr>\n",
       "    <tr>\n",
       "      <th>12</th>\n",
       "      <td>0.243319</td>\n",
       "      <td>0.486638</td>\n",
       "      <td>0.480133</td>\n",
       "      <td>0.241065</td>\n",
       "    </tr>\n",
       "    <tr>\n",
       "      <th>13</th>\n",
       "      <td>0.223023</td>\n",
       "      <td>0.446046</td>\n",
       "      <td>0.096316</td>\n",
       "      <td>0.284881</td>\n",
       "    </tr>\n",
       "    <tr>\n",
       "      <th>14</th>\n",
       "      <td>0.294599</td>\n",
       "      <td>0.589197</td>\n",
       "      <td>0.429686</td>\n",
       "      <td>0.392039</td>\n",
       "    </tr>\n",
       "  </tbody>\n",
       "</table>\n",
       "</div>"
      ],
      "text/plain": [
       "    SalePrice_£/kwh  PurchasePrice_£/kwh  Generation_kwh  Consumption_kwh\n",
       "0          0.350348             0.700696        0.333470         0.300905\n",
       "1          0.245152             0.490305        0.070384         0.274157\n",
       "2          0.313164             0.626328        0.061990         0.360037\n",
       "3          0.281366             0.562733        0.096241         0.382336\n",
       "4          0.242793             0.485587        0.467314         0.235215\n",
       "5          0.356433             0.712867        0.484503         0.289666\n",
       "6          0.376478             0.752955        0.233296         0.328824\n",
       "7          0.278191             0.556382        0.443396         0.365215\n",
       "8          0.298817             0.597634        0.118079         0.278313\n",
       "9          0.362085             0.724170        0.114780         0.264336\n",
       "10         0.280876             0.561753        0.497414         0.319474\n",
       "11         0.342156             0.684313        0.015132         0.284707\n",
       "12         0.243319             0.486638        0.480133         0.241065\n",
       "13         0.223023             0.446046        0.096316         0.284881\n",
       "14         0.294599             0.589197        0.429686         0.392039"
      ]
     },
     "execution_count": 43,
     "metadata": {},
     "output_type": "execute_result"
    }
   ],
   "source": [
    "df.head(15)"
   ]
  },
  {
   "cell_type": "markdown",
   "metadata": {},
   "source": [
    "# 3.0 Optimisation model"
   ]
  },
  {
   "cell_type": "code",
   "execution_count": 44,
   "metadata": {},
   "outputs": [],
   "source": [
    "data = np.array(df)"
   ]
  },
  {
   "cell_type": "code",
   "execution_count": 45,
   "metadata": {},
   "outputs": [],
   "source": [
    "def profit(x_input):\n",
    "    '''\n",
    "    Function to be minimised for the optimsation problem\n",
    "    '''\n",
    "    x0 = x_input[0:72]\n",
    "    x1 = x_input[72:]\n",
    "\n",
    "    battery = np.zeros(73)\n",
    "    # initial battery charge\n",
    "    battery[0] = 1\n",
    "    # battery size\n",
    "    battery_size = 5\n",
    "    cost_punishment = 0\n",
    "    for i in range(len(battery)-1):\n",
    "        battery[i+1] = battery[i] + data[i,2] - data[i,3] + x0[i] - x1[i]\n",
    "        if battery[i + 1] > battery_size:\n",
    "            cost_punishment += 1000\n",
    "        if battery[i+1] < 0:\n",
    "            cost_punishment += 1000\n",
    "\n",
    "    buy = x0[:] * data[:,1]\n",
    "    sell = x1[:] * data[:,0]\n",
    "\n",
    "\n",
    "    cost = np.sum(buy - sell) + cost_punishment\n",
    "    battery_charge = battery[72] * np.mean(data[i,0])\n",
    "    return cost - battery_charge"
   ]
  },
  {
   "cell_type": "code",
   "execution_count": 46,
   "metadata": {},
   "outputs": [
    {
     "data": {
      "text/plain": [
       "7.379524929133122"
      ]
     },
     "execution_count": 46,
     "metadata": {},
     "output_type": "execute_result"
    }
   ],
   "source": [
    "# x0 = initial purchase amount\n",
    "x0 = np.array(df['Consumption_kwh'])\n",
    "# x1 = initial sale amount\n",
    "x1 =  np.array(df['Generation_kwh'])\n",
    "x_input = np.concatenate((x0,x1),axis=0)\n",
    "cost = profit(x_input)\n",
    "cost"
   ]
  },
  {
   "cell_type": "code",
   "execution_count": 47,
   "metadata": {},
   "outputs": [
    {
     "name": "stderr",
     "output_type": "stream",
     "text": [
      "/tmp/ipykernel_339944/3550192192.py:3: RuntimeWarning: Maximum number of function evaluations has been exceeded.\n",
      "  res = minimize(\n"
     ]
    },
    {
     "data": {
      "text/plain": [
       "array([-1.45119456e-01,  2.52836650e-01,  5.18465311e-01,  1.33241648e-02,\n",
       "        3.28487430e-01,  5.19777766e-01,  8.63246855e-02,  6.04647482e-01,\n",
       "        3.41102372e-01, -3.30936718e-01,  4.29669828e-02,  4.79916982e-01,\n",
       "        7.54050412e-01,  5.24150702e-01,  2.49747022e-01, -1.20971977e-01,\n",
       "        6.81390660e-01, -3.26736223e-01,  3.81859372e-01,  4.17815929e-01,\n",
       "       -2.32429048e-01,  1.25759067e-01, -5.26463372e-01,  4.52718034e-01,\n",
       "        1.18231043e+00,  1.51974536e+00,  3.09399677e-01,  3.37254298e-01,\n",
       "        1.54314022e-01,  2.29075318e-01, -4.77415167e-02,  2.44025762e-01,\n",
       "        1.07290431e+00, -2.77589368e-03,  2.61181907e-01,  4.27784337e-02,\n",
       "       -4.41822932e-01,  2.78473897e-01,  3.64907019e-01,  9.81814605e-01,\n",
       "        4.12108813e-01,  4.54630206e-01,  1.35920197e+00,  7.34857030e-01,\n",
       "        7.88645144e-01,  1.73339554e-01,  6.34264121e-01,  6.79663810e-01,\n",
       "        1.23464187e+00,  1.68444817e-01,  5.31282337e-01, -4.21774145e+00,\n",
       "        7.29050583e-01,  8.61227258e-02,  2.79112108e+00, -6.77844615e-01,\n",
       "        2.78158095e-01,  4.67819209e-01, -8.70812314e-02, -1.70218324e-01,\n",
       "        3.59778525e-01,  4.92350809e-01, -7.95518290e-02,  4.34714142e-01,\n",
       "        3.68487160e-01, -5.68955768e-02,  1.15755417e-01,  3.99702470e-01,\n",
       "       -5.18975188e-01, -2.15629126e-01, -1.75832064e-01,  3.06613798e-01,\n",
       "        4.13901831e-01,  1.33755511e-01,  2.17692831e-01,  8.94716587e-02,\n",
       "        1.45867164e-02,  5.05781291e-01,  6.39528823e-01,  5.95339771e-02,\n",
       "        2.66269339e-02,  7.13554556e-02,  4.03391494e-01,  1.55662668e-02,\n",
       "        6.83500568e-02,  1.56985984e-01,  4.54500461e-02,  1.18575861e-01,\n",
       "       -1.90709698e-01,  7.22592055e-02,  4.42934012e-01,  7.97126514e-02,\n",
       "        1.10343163e-01,  8.22581096e-01,  3.68511882e-01,  8.72564511e-01,\n",
       "        9.17718600e-04,  1.40054457e-01,  9.11352374e-01,  9.61355751e-02,\n",
       "        4.38365504e-01,  3.70770986e-01,  4.09164308e-01, -3.12475362e-01,\n",
       "        5.00898337e-01,  5.17523417e-01,  3.99717571e-01, -1.95866280e-02,\n",
       "        1.49797968e-02,  1.17733231e-01,  3.84846079e-02,  2.29383634e-02,\n",
       "        1.79705941e-02,  5.43708193e-01,  2.59965350e-01,  8.30718991e-05,\n",
       "        1.41192641e-01,  5.92430791e-01,  9.06528085e-02,  3.47971529e-01,\n",
       "       -2.23278400e-02,  1.00203326e-01,  7.84404394e-02,  5.06464436e-01,\n",
       "        3.66589763e-01,  3.07814620e-03,  2.34817810e-01,  1.18100551e-01,\n",
       "        1.71698633e-01,  5.20831411e-02, -1.53802130e-01,  1.23427318e-01,\n",
       "        1.34718535e-01, -5.77461166e-01, -1.54892348e-01, -1.21808853e-01,\n",
       "       -2.55449021e-01,  2.14997813e-01,  3.06922853e-01,  5.38910578e-01,\n",
       "        2.57166015e-01,  3.57042356e-01,  5.10071114e-01,  4.34243983e-01])"
      ]
     },
     "execution_count": 47,
     "metadata": {},
     "output_type": "execute_result"
    }
   ],
   "source": [
    "x_input = np.concatenate((x0,x1),axis=0)\n",
    "\n",
    "res = minimize(\n",
    "    profit,\n",
    "    x_input,\n",
    "    method='nelder-mead',\n",
    "    options={'xatol': 1e-8, 'disp': True}\n",
    "    )\n",
    "res.x"
   ]
  },
  {
   "cell_type": "code",
   "execution_count": 48,
   "metadata": {},
   "outputs": [
    {
     "data": {
      "text/plain": [
       "4.008397478925271"
      ]
     },
     "execution_count": 48,
     "metadata": {},
     "output_type": "execute_result"
    }
   ],
   "source": [
    "best_case = profit(res.x)\n",
    "best_case"
   ]
  },
  {
   "cell_type": "code",
   "execution_count": null,
   "metadata": {},
   "outputs": [],
   "source": []
  },
  {
   "cell_type": "markdown",
   "metadata": {},
   "source": [
    "### Inputting bounds"
   ]
  },
  {
   "cell_type": "code",
   "execution_count": 49,
   "metadata": {},
   "outputs": [],
   "source": [
    "#class scipy.optimize.Bounds(lb=-inf, ub=inf, keep_feasible=False)"
   ]
  },
  {
   "cell_type": "code",
   "execution_count": 50,
   "metadata": {},
   "outputs": [],
   "source": [
    "# x0 is the energy purchased\n",
    "# x1 is the energy sold\n",
    "# lower bound for x0 is 0, upper bound is 3 (assumptino set from grid)\n",
    "# lower bound for x1 is 0, upper bound is the PV energy generation\n",
    "lb =np.concatenate((np.ones(72)*0, np.ones(72)*0),axis = 0)\n",
    "ub =np.concatenate((np.ones(72)*3, data[:,2]), axis = 0)\n",
    "bounds = Bounds(lb=lb, ub=ub)"
   ]
  },
  {
   "cell_type": "code",
   "execution_count": 51,
   "metadata": {},
   "outputs": [
    {
     "name": "stderr",
     "output_type": "stream",
     "text": [
      "/tmp/ipykernel_339944/542866697.py:3: RuntimeWarning: Maximum number of function evaluations has been exceeded.\n",
      "  res = minimize(\n"
     ]
    },
    {
     "data": {
      "text/plain": [
       "array([1.28480353e-01, 2.36323438e-01, 3.70937812e-01, 5.90802760e-01,\n",
       "       7.16687828e-01, 4.25539373e-02, 4.42561632e-01, 4.48771580e-01,\n",
       "       7.82366011e-01, 7.80068496e-02, 1.71433857e-02, 2.82410403e-01,\n",
       "       3.71372945e-01, 5.83289985e-01, 2.37818475e-01, 5.58798654e-01,\n",
       "       7.49290624e-01, 1.60062569e-02, 1.49980567e+00, 4.54097762e-01,\n",
       "       6.90077670e-01, 1.32957751e-01, 2.57298350e-01, 3.70779432e-01,\n",
       "       9.31365936e-03, 3.25549477e-01, 5.24570574e-02, 1.95351813e-02,\n",
       "       8.47966571e-02, 2.66187830e-02, 4.38685138e-02, 4.94422947e-01,\n",
       "       4.96951795e-01, 6.83318905e-02, 2.39267325e-02, 1.40053712e-01,\n",
       "       2.80953870e-02, 6.27354953e-01, 3.85276241e-02, 9.08181474e-02,\n",
       "       3.47781801e-01, 1.43973155e-01, 5.59528593e-01, 4.91822792e-01,\n",
       "       1.20718430e-02, 9.42168640e-03, 1.04423134e-01, 4.60951627e-01,\n",
       "       1.17005186e-01, 6.47711369e-02, 3.61349994e-01, 3.54125776e-02,\n",
       "       3.00256769e-01, 9.53861316e-02, 8.25339591e-01, 3.91364989e-01,\n",
       "       4.62612552e-01, 2.85219302e-01, 1.18906551e-02, 2.53721186e-01,\n",
       "       3.16065455e-01, 1.37048682e-02, 4.02916426e-01, 1.14971345e-02,\n",
       "       7.10825683e-01, 1.66189321e-01, 7.04236270e-01, 0.00000000e+00,\n",
       "       2.46538877e-01, 2.19334597e-02, 7.20939779e-03, 1.95123757e-01,\n",
       "       3.33470496e-01, 7.03842306e-02, 6.19898504e-02, 9.62409198e-02,\n",
       "       4.67313927e-01, 4.84503249e-01, 2.33296346e-01, 4.43395642e-01,\n",
       "       1.18078664e-01, 1.14779775e-01, 4.97414036e-01, 1.51316321e-02,\n",
       "       4.80133018e-01, 9.63164551e-02, 4.29685752e-01, 3.15478930e-01,\n",
       "       2.83849821e-01, 2.54975113e-01, 2.89671881e-01, 7.56989926e-02,\n",
       "       3.89842642e-01, 4.14452580e-01, 4.50484889e-01, 3.34547945e-01,\n",
       "       9.22300644e-03, 8.57483127e-02, 2.68088753e-01, 1.50493014e-01,\n",
       "       3.34548835e-01, 4.59029106e-01, 2.68657905e-01, 2.28044815e-01,\n",
       "       4.72322004e-01, 3.16502832e-01, 3.66201423e-01, 1.23415716e-01,\n",
       "       3.28964516e-01, 4.15206208e-01, 7.61715560e-02, 1.64047516e-02,\n",
       "       7.92578154e-02, 4.42112506e-01, 5.79174235e-02, 1.17612556e-04,\n",
       "       2.62182419e-01, 2.00216175e-01, 1.07871043e-01, 2.88104226e-01,\n",
       "       4.04946065e-02, 6.74461039e-02, 1.16242026e-01, 8.70143104e-02,\n",
       "       9.66852285e-02, 8.20653244e-02, 4.32576506e-01, 4.08716025e-01,\n",
       "       1.33486737e-01, 1.39931306e-01, 3.84765437e-01, 1.21143909e-01,\n",
       "       3.64117553e-01, 4.35388488e-01, 4.34047706e-01, 2.06169464e-01,\n",
       "       3.65695762e-01, 4.22647420e-01, 5.47721433e-02, 2.81845145e-01,\n",
       "       4.07355910e-01, 3.83623762e-01, 1.60098650e-01, 4.31269603e-01])"
      ]
     },
     "execution_count": 51,
     "metadata": {},
     "output_type": "execute_result"
    }
   ],
   "source": [
    "x_input = np.concatenate((x0,x1),axis=0)\n",
    "\n",
    "res = minimize(\n",
    "    profit,\n",
    "    x_input,\n",
    "    bounds = bounds,\n",
    "    method='nelder-mead',\n",
    "    options={'xatol': 1e-12, 'disp': True}\n",
    "    )\n",
    "res.x"
   ]
  },
  {
   "cell_type": "code",
   "execution_count": 52,
   "metadata": {},
   "outputs": [
    {
     "data": {
      "text/plain": [
       "5.791831020484753"
      ]
     },
     "execution_count": 52,
     "metadata": {},
     "output_type": "execute_result"
    }
   ],
   "source": [
    "best_case = profit(res.x)\n",
    "best_case"
   ]
  },
  {
   "cell_type": "code",
   "execution_count": 53,
   "metadata": {},
   "outputs": [],
   "source": [
    "def battery_storage(x_input):\n",
    "    '''\n",
    "    Function to be minimised for the optimsation problem\n",
    "    '''\n",
    "    x0 = x_input[0:72]\n",
    "    x1 = x_input[72:]\n",
    "\n",
    "    battery = np.zeros(73)\n",
    "    # initial battery charge\n",
    "    battery[0] = 1\n",
    "    # battery size\n",
    "    battery_size = 5\n",
    "    cost_punishment = 0\n",
    "    for i in range(len(battery)-1):\n",
    "        battery[i+1] = battery[i] + data[i,2] - data[i,3] + x0[i] - x1[i]\n",
    "        if battery[i + 1] > battery_size:\n",
    "            cost_punishment += 1000\n",
    "\n",
    "    buy = x0[:] * data[:,1]\n",
    "    sell = x1[:] * data[:,0]\n",
    "\n",
    "\n",
    "    cost = np.sum(buy - sell) + cost_punishment\n",
    "    battery_charge = battery[72] * np.mean(data[i,0])\n",
    "    return battery, (cost - battery_charge)"
   ]
  },
  {
   "cell_type": "code",
   "execution_count": 54,
   "metadata": {},
   "outputs": [
    {
     "data": {
      "text/plain": [
       "array([1.        , 0.82757499, 0.78974143, 0.80064239, 1.00910964,\n",
       "       1.49058218, 1.24346966, 1.35720748, 1.4407637 , 1.94481676,\n",
       "       1.75848733, 1.4561564 , 1.4538603 , 1.58416802, 1.8825772 ,\n",
       "       1.72835685, 2.01599083, 2.47057903, 2.19661403, 3.40491948,\n",
       "       3.56005191, 3.96102952, 3.7705728 , 3.77252319, 3.78787292,\n",
       "       3.4699923 , 3.45787368, 3.12725703, 2.94569389, 2.73889018,\n",
       "       2.5325761 , 2.23542608, 2.46944209, 2.56960642, 2.43645342,\n",
       "       2.1284713 , 1.9557629 , 1.59465591, 1.91517025, 1.59588303,\n",
       "       1.47767179, 1.47288968, 1.33488903, 1.53318068, 1.6609518 ,\n",
       "       1.32909511, 1.02758751, 0.84993024, 0.93306456, 0.78463831,\n",
       "       0.46082139, 0.57464396, 0.25071485, 0.27407862, 0.03337467,\n",
       "       0.47898398, 0.57542121, 0.73154617, 0.77017859, 0.5655132 ,\n",
       "       0.61251913, 0.71646253, 0.50069004, 0.67137369, 0.29312202,\n",
       "       0.63182543, 0.55160259, 0.88099891, 0.67896683, 0.7110173 ,\n",
       "       0.37708521, 0.05634825, 0.00673444])"
      ]
     },
     "execution_count": 54,
     "metadata": {},
     "output_type": "execute_result"
    }
   ],
   "source": [
    "(battery, profit) = battery_storage(res.x)\n",
    "battery"
   ]
  },
  {
   "cell_type": "code",
   "execution_count": null,
   "metadata": {},
   "outputs": [],
   "source": []
  },
  {
   "cell_type": "code",
   "execution_count": null,
   "metadata": {},
   "outputs": [],
   "source": []
  }
 ],
 "metadata": {
  "kernelspec": {
   "display_name": "market",
   "language": "python",
   "name": "python3"
  },
  "language_info": {
   "codemirror_mode": {
    "name": "ipython",
    "version": 3
   },
   "file_extension": ".py",
   "mimetype": "text/x-python",
   "name": "python",
   "nbconvert_exporter": "python",
   "pygments_lexer": "ipython3",
   "version": "3.10.6"
  }
 },
 "nbformat": 4,
 "nbformat_minor": 2
}
