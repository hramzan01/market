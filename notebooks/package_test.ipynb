{
 "cells": [
  {
   "cell_type": "code",
   "execution_count": 1,
   "metadata": {},
   "outputs": [],
   "source": [
    "\"\"\"Energy price pred package returns selling price of electricity (back to grid)\n",
    "\n",
    "To install, copy the package folder: energy_price_pred\n",
    "\n",
    "pip install . (from the shell to install package)\n",
    "\n",
    "###### then run the following commands #########\n",
    "\n",
    "from energy_price_pred.energypricepred import *\n",
    "\n",
    "download_file(file, save_path)\n",
    "\n",
    "df_price, train, test = process_df(file, previous_days=30*18)   ### example uses last 18 months and returns electricity selling price dataframe with splits\n",
    "\n",
    "model, forecast_y_df, df_cv, df_p = ml_model(df_price, forecast_days=14, year_seasonality_mode=4) ### returns trained model\n",
    "\n",
    "pred_y_df,date1, date2, forecast_days = pred(df_price, model, forecast_start_date='2024-03-19', forceast_end_date='2024-03-31') ### returns forecasted electricity selling price pred_y_df\n",
    "\n",
    "### Hourly selling price of electricity is obtained as follows,\n",
    "\n",
    "hourly_selling_data = pred_y_df.resample('H', on='ds').mean()\n",
    "\n",
    "hourly_buying_data = hourly_selling_data.copy()\n",
    "\n",
    "hourly_buying_data = hourly_selling_data.copy()\n",
    "\n",
    "\"\"\";"
   ]
  },
  {
   "cell_type": "code",
   "execution_count": 2,
   "metadata": {},
   "outputs": [],
   "source": [
    "%load_ext autoreload\n",
    "%autoreload 2"
   ]
  },
  {
   "cell_type": "code",
   "execution_count": 3,
   "metadata": {},
   "outputs": [
    {
     "name": "stderr",
     "output_type": "stream",
     "text": [
      "/home/rahuliyer/.pyenv/versions/3.11.6/envs/market/lib/python3.11/site-packages/tqdm/auto.py:21: TqdmWarning: IProgress not found. Please update jupyter and ipywidgets. See https://ipywidgets.readthedocs.io/en/stable/user_install.html\n",
      "  from .autonotebook import tqdm as notebook_tqdm\n",
      "Importing plotly failed. Interactive plots will not work.\n"
     ]
    }
   ],
   "source": [
    "from energy_price_pred.energypricepred import *"
   ]
  },
  {
   "cell_type": "code",
   "execution_count": null,
   "metadata": {},
   "outputs": [],
   "source": [
    "download_file(file, save_path)"
   ]
  },
  {
   "cell_type": "code",
   "execution_count": 4,
   "metadata": {},
   "outputs": [
    {
     "name": "stdout",
     "output_type": "stream",
     "text": [
      "2019-05-15 23:00:00+00:00\n",
      "17280\n",
      "df created including time history of electricity export prices between 2023-03-29 23:00:00 and 2024-03-23 22:30:00 i.e. for the last 359 days 23:30:00 days\n"
     ]
    }
   ],
   "source": [
    "df_price, train, test = process_df(file, previous_days=30*12)"
   ]
  },
  {
   "cell_type": "code",
   "execution_count": 5,
   "metadata": {},
   "outputs": [
    {
     "name": "stderr",
     "output_type": "stream",
     "text": [
      "12:22:42 - cmdstanpy - INFO - Chain [1] start processing\n",
      "12:22:45 - cmdstanpy - INFO - Chain [1] done processing\n",
      "Seasonality has period of 365.25 days which is larger than initial window. Consider increasing initial.\n"
     ]
    },
    {
     "name": "stdout",
     "output_type": "stream",
     "text": [
      "performing cross-validation using, initial: 180, horizon:36, and period:18\n"
     ]
    },
    {
     "name": "stderr",
     "output_type": "stream",
     "text": [
      "  0%|          | 0/8 [00:00<?, ?it/s]12:22:48 - cmdstanpy - INFO - Chain [1] start processing\n",
      "12:22:52 - cmdstanpy - INFO - Chain [1] done processing\n",
      " 12%|█▎        | 1/8 [00:05<00:36,  5.26s/it]12:22:53 - cmdstanpy - INFO - Chain [1] start processing\n",
      "12:22:56 - cmdstanpy - INFO - Chain [1] done processing\n",
      " 25%|██▌       | 2/8 [00:08<00:25,  4.24s/it]12:22:56 - cmdstanpy - INFO - Chain [1] start processing\n",
      "12:22:58 - cmdstanpy - INFO - Chain [1] done processing\n",
      " 38%|███▊      | 3/8 [00:11<00:17,  3.42s/it]12:22:59 - cmdstanpy - INFO - Chain [1] start processing\n",
      "12:23:00 - cmdstanpy - INFO - Chain [1] done processing\n",
      " 50%|█████     | 4/8 [00:13<00:11,  2.93s/it]12:23:01 - cmdstanpy - INFO - Chain [1] start processing\n",
      "12:23:04 - cmdstanpy - INFO - Chain [1] done processing\n",
      " 62%|██████▎   | 5/8 [00:16<00:08,  2.97s/it]12:23:04 - cmdstanpy - INFO - Chain [1] start processing\n",
      "12:23:06 - cmdstanpy - INFO - Chain [1] done processing\n",
      " 75%|███████▌  | 6/8 [00:18<00:05,  2.74s/it]12:23:07 - cmdstanpy - INFO - Chain [1] start processing\n",
      "12:23:09 - cmdstanpy - INFO - Chain [1] done processing\n",
      " 88%|████████▊ | 7/8 [00:21<00:02,  2.76s/it]12:23:09 - cmdstanpy - INFO - Chain [1] start processing\n",
      "12:23:12 - cmdstanpy - INFO - Chain [1] done processing\n",
      "100%|██████████| 8/8 [00:25<00:00,  3.13s/it]\n"
     ]
    }
   ],
   "source": [
    "model, forecast_y_df, df_cv, df_p = ml_model(df_price, year_seasonality_mode=4)"
   ]
  },
  {
   "cell_type": "code",
   "execution_count": 6,
   "metadata": {},
   "outputs": [
    {
     "data": {
      "text/plain": [
       "pandas._libs.tslibs.timestamps.Timestamp"
      ]
     },
     "execution_count": 6,
     "metadata": {},
     "output_type": "execute_result"
    }
   ],
   "source": [
    "type(df_price['ds'][df_price.index[0]])"
   ]
  },
  {
   "cell_type": "code",
   "execution_count": 7,
   "metadata": {},
   "outputs": [
    {
     "data": {
      "text/html": [
       "<div>\n",
       "<style scoped>\n",
       "    .dataframe tbody tr th:only-of-type {\n",
       "        vertical-align: middle;\n",
       "    }\n",
       "\n",
       "    .dataframe tbody tr th {\n",
       "        vertical-align: top;\n",
       "    }\n",
       "\n",
       "    .dataframe thead th {\n",
       "        text-align: right;\n",
       "    }\n",
       "</style>\n",
       "<table border=\"1\" class=\"dataframe\">\n",
       "  <thead>\n",
       "    <tr style=\"text-align: right;\">\n",
       "      <th></th>\n",
       "      <th>ds</th>\n",
       "      <th>y</th>\n",
       "    </tr>\n",
       "  </thead>\n",
       "  <tbody>\n",
       "    <tr>\n",
       "      <th>85146</th>\n",
       "      <td>2024-03-23 20:30:00</td>\n",
       "      <td>4.14</td>\n",
       "    </tr>\n",
       "    <tr>\n",
       "      <th>85147</th>\n",
       "      <td>2024-03-23 21:00:00</td>\n",
       "      <td>5.50</td>\n",
       "    </tr>\n",
       "    <tr>\n",
       "      <th>85148</th>\n",
       "      <td>2024-03-23 21:30:00</td>\n",
       "      <td>3.37</td>\n",
       "    </tr>\n",
       "    <tr>\n",
       "      <th>85149</th>\n",
       "      <td>2024-03-23 22:00:00</td>\n",
       "      <td>5.00</td>\n",
       "    </tr>\n",
       "    <tr>\n",
       "      <th>85150</th>\n",
       "      <td>2024-03-23 22:30:00</td>\n",
       "      <td>2.16</td>\n",
       "    </tr>\n",
       "  </tbody>\n",
       "</table>\n",
       "</div>"
      ],
      "text/plain": [
       "                       ds     y\n",
       "85146 2024-03-23 20:30:00  4.14\n",
       "85147 2024-03-23 21:00:00  5.50\n",
       "85148 2024-03-23 21:30:00  3.37\n",
       "85149 2024-03-23 22:00:00  5.00\n",
       "85150 2024-03-23 22:30:00  2.16"
      ]
     },
     "execution_count": 7,
     "metadata": {},
     "output_type": "execute_result"
    }
   ],
   "source": [
    "df_price.tail()"
   ]
  },
  {
   "cell_type": "code",
   "execution_count": 8,
   "metadata": {},
   "outputs": [],
   "source": [
    "# date1 = datetime.strptime('2024-03-23 20:30:00', \"%Y-%m-%d %H:%M:%S\")\n",
    "# date2 = datetime.strptime('2024-03-23 22:30:00', \"%Y-%m-%d %H:%M:%S\")\n",
    "# forecast_y_df[(forecast_y_df['ds']>= date1)  & (forecast_y_df['ds']<=date2)]"
   ]
  },
  {
   "cell_type": "code",
   "execution_count": 10,
   "metadata": {},
   "outputs": [
    {
     "name": "stdout",
     "output_type": "stream",
     "text": [
      "7\n"
     ]
    }
   ],
   "source": [
    "pred_y_df_sell, hourly_data_sell, hourly_data_buy, date1, date2, forecast_days = pred(model, forecast_start_date='2024-03-23', forecast_days=7, freq='H')"
   ]
  },
  {
   "cell_type": "code",
   "execution_count": 11,
   "metadata": {},
   "outputs": [
    {
     "data": {
      "text/plain": [
       "(datetime.date(2024, 3, 30), datetime.date(2024, 3, 23), 7)"
      ]
     },
     "execution_count": 11,
     "metadata": {},
     "output_type": "execute_result"
    }
   ],
   "source": [
    "date1, date2, forecast_days"
   ]
  },
  {
   "cell_type": "code",
   "execution_count": 12,
   "metadata": {},
   "outputs": [
    {
     "data": {
      "text/html": [
       "<div>\n",
       "<style scoped>\n",
       "    .dataframe tbody tr th:only-of-type {\n",
       "        vertical-align: middle;\n",
       "    }\n",
       "\n",
       "    .dataframe tbody tr th {\n",
       "        vertical-align: top;\n",
       "    }\n",
       "\n",
       "    .dataframe thead th {\n",
       "        text-align: right;\n",
       "    }\n",
       "</style>\n",
       "<table border=\"1\" class=\"dataframe\">\n",
       "  <thead>\n",
       "    <tr style=\"text-align: right;\">\n",
       "      <th></th>\n",
       "      <th>ds</th>\n",
       "      <th>yhat</th>\n",
       "      <th>yhat_lower</th>\n",
       "      <th>yhat_upper</th>\n",
       "    </tr>\n",
       "  </thead>\n",
       "  <tbody>\n",
       "    <tr>\n",
       "      <th>17443</th>\n",
       "      <td>2024-03-30 18:30:00</td>\n",
       "      <td>10.224624</td>\n",
       "      <td>6.375620</td>\n",
       "      <td>14.514448</td>\n",
       "    </tr>\n",
       "    <tr>\n",
       "      <th>17444</th>\n",
       "      <td>2024-03-30 19:30:00</td>\n",
       "      <td>8.135847</td>\n",
       "      <td>3.765570</td>\n",
       "      <td>12.461687</td>\n",
       "    </tr>\n",
       "    <tr>\n",
       "      <th>17445</th>\n",
       "      <td>2024-03-30 20:30:00</td>\n",
       "      <td>6.626595</td>\n",
       "      <td>2.090818</td>\n",
       "      <td>10.763237</td>\n",
       "    </tr>\n",
       "    <tr>\n",
       "      <th>17446</th>\n",
       "      <td>2024-03-30 21:30:00</td>\n",
       "      <td>6.145889</td>\n",
       "      <td>2.016349</td>\n",
       "      <td>10.494701</td>\n",
       "    </tr>\n",
       "    <tr>\n",
       "      <th>17447</th>\n",
       "      <td>2024-03-30 22:30:00</td>\n",
       "      <td>6.266288</td>\n",
       "      <td>2.188833</td>\n",
       "      <td>10.563295</td>\n",
       "    </tr>\n",
       "  </tbody>\n",
       "</table>\n",
       "</div>"
      ],
      "text/plain": [
       "                       ds       yhat  yhat_lower  yhat_upper\n",
       "17443 2024-03-30 18:30:00  10.224624    6.375620   14.514448\n",
       "17444 2024-03-30 19:30:00   8.135847    3.765570   12.461687\n",
       "17445 2024-03-30 20:30:00   6.626595    2.090818   10.763237\n",
       "17446 2024-03-30 21:30:00   6.145889    2.016349   10.494701\n",
       "17447 2024-03-30 22:30:00   6.266288    2.188833   10.563295"
      ]
     },
     "execution_count": 12,
     "metadata": {},
     "output_type": "execute_result"
    }
   ],
   "source": [
    "pred_y_df_sell.tail()"
   ]
  },
  {
   "cell_type": "code",
   "execution_count": 13,
   "metadata": {},
   "outputs": [
    {
     "data": {
      "text/plain": [
       "(datetime.date(2024, 3, 30), datetime.date(2024, 3, 23), 7)"
      ]
     },
     "execution_count": 13,
     "metadata": {},
     "output_type": "execute_result"
    }
   ],
   "source": [
    "date1, date2, forecast_days"
   ]
  },
  {
   "cell_type": "code",
   "execution_count": null,
   "metadata": {},
   "outputs": [],
   "source": [
    "ax = model.plot(pred_y_df_sell)"
   ]
  },
  {
   "cell_type": "code",
   "execution_count": null,
   "metadata": {},
   "outputs": [],
   "source": [
    "import matplotlib.pyplot as plt\n",
    "\n",
    "days =14\n",
    "\n",
    "date = df_price['ds'][df_price.index[-1]]- timedelta(days=days)\n",
    "date_end = date + timedelta(days=days+days)\n",
    "# date\n",
    "df_price_date=df_price.loc[df_price['ds'] >= date ].copy()\n",
    "forecast_date=pred_y_df_sell.loc[(pred_y_df_sell['ds'] >= date ) & (pred_y_df_sell['ds'] <= date_end)].copy()\n",
    "\n",
    "plt.figure(figsize=(15,8))\n",
    "plt.plot(df_price_date['ds'], df_price_date['y'], label='df_price')\n",
    "plt.plot(forecast_date['ds'], forecast_date['yhat'], label='predictions', color = 'red')\n",
    "plt.legend(loc='best')"
   ]
  },
  {
   "cell_type": "code",
   "execution_count": null,
   "metadata": {},
   "outputs": [],
   "source": [
    "df_p.tail()"
   ]
  },
  {
   "cell_type": "code",
   "execution_count": null,
   "metadata": {},
   "outputs": [],
   "source": [
    "fig = plot_cross_validation_metric(df_cv, metric='smape')"
   ]
  },
  {
   "cell_type": "code",
   "execution_count": null,
   "metadata": {},
   "outputs": [],
   "source": [
    "df_price, train, test = process_df(file, previous_days=30*18)"
   ]
  },
  {
   "cell_type": "code",
   "execution_count": null,
   "metadata": {},
   "outputs": [],
   "source": [
    "model, forecast_y_df, df_cv, df_p = ml_model(df_price, forecast_days=14, year_seasonality_mode=4, freq='H')"
   ]
  },
  {
   "cell_type": "code",
   "execution_count": null,
   "metadata": {},
   "outputs": [],
   "source": [
    "pred_y_df_sell, hourly_data_sell, hourly_data_buy, date1, date2, forecast_days = pred(df_price, model, forecast_start_date='2024-03-23', forceast_end_date='2024-04-06')"
   ]
  },
  {
   "cell_type": "code",
   "execution_count": null,
   "metadata": {},
   "outputs": [],
   "source": [
    "ax = model.plot(pred_y_df_sell)"
   ]
  },
  {
   "cell_type": "code",
   "execution_count": null,
   "metadata": {},
   "outputs": [],
   "source": [
    "df_price"
   ]
  },
  {
   "cell_type": "code",
   "execution_count": null,
   "metadata": {},
   "outputs": [],
   "source": [
    "pred_y_df_sell"
   ]
  },
  {
   "cell_type": "code",
   "execution_count": null,
   "metadata": {},
   "outputs": [],
   "source": [
    "import matplotlib.pyplot as plt\n",
    "\n",
    "days =14\n",
    "\n",
    "date = df_price['ds'][df_price.index[-1]]- timedelta(days=days)\n",
    "date_end = date + timedelta(days=days+days)\n",
    "# date\n",
    "df_price_date=df_price.loc[df_price['ds'] >= date ].copy()\n",
    "forecast_date=pred_y_df_sell.loc[(pred_y_df_sell['ds'] >= date ) & (pred_y_df_sell['ds'] <= date_end)].copy()\n",
    "# test_date=test.loc[test['ds'] <= date_end ].copy()"
   ]
  },
  {
   "cell_type": "code",
   "execution_count": null,
   "metadata": {},
   "outputs": [],
   "source": [
    "plt.figure(figsize=(15,8))\n",
    "plt.plot(df_price_date['ds'], df_price_date['y'], label='df_price')\n",
    "plt.plot(forecast_date['ds'], forecast_date['yhat'], label='predictions', color = 'red')\n",
    "plt.legend(loc='best')"
   ]
  },
  {
   "cell_type": "code",
   "execution_count": null,
   "metadata": {},
   "outputs": [],
   "source": [
    "fig = plot_cross_validation_metric(df_cv, metric='smape')"
   ]
  },
  {
   "cell_type": "code",
   "execution_count": null,
   "metadata": {},
   "outputs": [],
   "source": [
    "\"\"\"Energy price pred package returns selling price of electricity (back to grid)\n",
    "\n",
    "To install, copy the package folder: energy_price_pred\n",
    "\n",
    "pip install . (from the shell to install package)\n",
    "\n",
    "###### then run the following commands #########\n",
    "\n",
    "from energy_price_pred.energypricepred import *\n",
    "\n",
    "download_file(file, save_path)\n",
    "\n",
    "df_price, train, test = process_df(file, previous_days=30*18)   ### example uses last 18 months and returns electricity selling price dataframe with splits\n",
    "\n",
    "model, forecast_y_df, df_cv, df_p = ml_model(df_price, forecast_days=14, year_seasonality_mode=4) ### returns trained model\n",
    "\n",
    "pred_y_df,date1, date2, forecast_days = pred(df_price, model, forecast_start_date='2024-03-19', forceast_end_date='2024-03-31') ### returns forecasted electricity selling price pred_y_df\n",
    "\n",
    "### Hourly selling price of electricity is obtained as follows,\n",
    "\n",
    "hourly_selling_data = pred_y_df.resample('H', on='ds').mean()\n",
    "\n",
    "hourly_buying_data = 2*hourly_selling_data\n",
    "\n",
    "\"\"\"\n"
   ]
  },
  {
   "cell_type": "code",
   "execution_count": null,
   "metadata": {},
   "outputs": [],
   "source": [
    "hourly_data = pred_y_df.resample('H', on='ds').mean()"
   ]
  },
  {
   "cell_type": "code",
   "execution_count": null,
   "metadata": {},
   "outputs": [],
   "source": [
    "hourly_data"
   ]
  },
  {
   "cell_type": "code",
   "execution_count": null,
   "metadata": {},
   "outputs": [],
   "source": [
    "hourly_data_buy= hourly_data*2\n",
    "# hourly_data_buy['y_hat']=hourly_data_buy['y']*2\n",
    "hourly_data_buy\n"
   ]
  },
  {
   "cell_type": "code",
   "execution_count": null,
   "metadata": {},
   "outputs": [],
   "source": []
  }
 ],
 "metadata": {
  "kernelspec": {
   "display_name": "market",
   "language": "python",
   "name": "python3"
  },
  "language_info": {
   "codemirror_mode": {
    "name": "ipython",
    "version": 3
   },
   "file_extension": ".py",
   "mimetype": "text/x-python",
   "name": "python",
   "nbconvert_exporter": "python",
   "pygments_lexer": "ipython3",
   "version": "3.11.6"
  }
 },
 "nbformat": 4,
 "nbformat_minor": 2
}
