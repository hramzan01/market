{
 "cells": [
  {
   "cell_type": "markdown",
   "metadata": {},
   "source": [
    "## The final MARKET model is an optimisation problem\n",
    "\n",
    "### Minimise C, where:\n",
    "  \n",
    "\\begin{align}\n",
    "\\sum_{i=1}^n C = (S_i * C_{si} - B_i * C_{Bi}) + SoC_{end} * mean(C_{si})\n",
    "\\end{align}"
   ]
  },
  {
   "cell_type": "markdown",
   "metadata": {},
   "source": []
  },
  {
   "cell_type": "markdown",
   "metadata": {},
   "source": [
    "C = cost, B_i = Energy bought at time i, S_i is the energy sold at time i, c_b_i = cost of buying at time i,  c_s_i = cost selling at time i, n = number of hourly slots"
   ]
  },
  {
   "cell_type": "markdown",
   "metadata": {},
   "source": [
    "### Taking into account the battery charge\n",
    "\n",
    "\\begin{align}\n",
    "\\mathbf{SoC_i} = SoC _{i-1} + PVgen_i + B_i - S_i - Use_i\n",
    "\\end{align}"
   ]
  },
  {
   "cell_type": "markdown",
   "metadata": {},
   "source": [
    "SoC = State of charge of battery at time i, PVgen = energy generation at time i, Use = Energy consumption at time i"
   ]
  },
  {
   "cell_type": "markdown",
   "metadata": {},
   "source": [
    "### Stored battery energy cannot be negative or greater than battery capacity\n",
    "\n",
    "\\begin{align}\n",
    "\\mathbf {0 < SoC_i < SoC_{max}}\n",
    "\\end{align}"
   ]
  },
  {
   "cell_type": "markdown",
   "metadata": {},
   "source": [
    "### Sold energy should be limited to generated energy"
   ]
  },
  {
   "cell_type": "markdown",
   "metadata": {},
   "source": [
    "\\begin{align}\n",
    "\\mathbf {0 < S_i < PVgen{i}}\n",
    "\\end{align}"
   ]
  },
  {
   "cell_type": "markdown",
   "metadata": {},
   "source": [
    "### Bought energy is limited to 3 kwh\n",
    "\n",
    "\\begin{align}\n",
    "\\mathbf {0 < B_i < 3}\n",
    "\\end{align}"
   ]
  },
  {
   "cell_type": "markdown",
   "metadata": {},
   "source": [
    "### Efficiency cost of discharge\n",
    "\n",
    "\\begin{align}\n",
    "\\mathbf {if \\; SoC_i < SoC_{i-1}} \\\\\n",
    "\\mathbf {(SoC_i - SoC_{i-1}) * (1-0.85) * C_{Bi}} \n",
    "\\end{align}"
   ]
  },
  {
   "cell_type": "markdown",
   "metadata": {},
   "source": [
    "### Efficiency cost of storage\n",
    "\n",
    "\\begin{align}\n",
    "\\mathbf {if \\; SoC_i < SoC_{i-1}} \\\\\n",
    "\\mathbf {(SoC_i - SoC_{i-1}) * (0.95)}\n",
    "\\end{align}"
   ]
  },
  {
   "cell_type": "markdown",
   "metadata": {},
   "source": []
  }
 ],
 "metadata": {
  "kernelspec": {
   "display_name": "market",
   "language": "python",
   "name": "python3"
  },
  "language_info": {
   "codemirror_mode": {
    "name": "ipython",
    "version": 3
   },
   "file_extension": ".py",
   "mimetype": "text/x-python",
   "name": "python",
   "nbconvert_exporter": "python",
   "pygments_lexer": "ipython3",
   "version": "3.10.6"
  }
 },
 "nbformat": 4,
 "nbformat_minor": 2
}
