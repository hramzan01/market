{
 "cells": [
  {
   "cell_type": "code",
   "execution_count": 1,
   "metadata": {},
   "outputs": [],
   "source": [
    "#! /usr/bin/env python\n",
    "import httplib2\n",
    "# These aren't needed, just for this example\n",
    "from pprint import pformat\n",
    "\n",
    "def post_elexon(url):\n",
    "    http_obj = httplib2.Http()\n",
    "    resp, content = http_obj.request(\n",
    "        uri=url,\n",
    "        method='GET',\n",
    "        headers={'Content-Type': 'application/xml; charset=UTF-8'},\n",
    "        )\n",
    "    print('===Response===')\n",
    "    print(pformat(resp))\n",
    "    print('===Content===')\n",
    "    print(pformat(content))\n",
    "    print('===Finished===')\n",
    "\n",
    "def main():\n",
    "    post_elexon(\n",
    "    url='https://api.bmreports.com/BMRS/B1770/v1?APIKey=23qvrm9abvsbb5a&SettlementDate=2015-03-01&Period=1&ServiceType=xml')\n",
    "\n",
    "# if __name__ == \"__main__\":\n",
    "#     main()"
   ]
  },
  {
   "cell_type": "code",
   "execution_count": 2,
   "metadata": {},
   "outputs": [
    {
     "name": "stdout",
     "output_type": "stream",
     "text": [
      "===Response===\n",
      "{'connection': 'keep-alive',\n",
      " 'content-disposition': 'attachment; '\n",
      "                        'filename=\"BALANCING_B1770_202403191010.xml\"',\n",
      " 'content-location': 'https://api.bmreports.com/BMRS/B1770/v1?APIKey=23qvrm9abvsbb5a&SettlementDate=2015-03-01&Period=1&ServiceType=xml',\n",
      " 'content-type': 'text/xml;charset=UTF-8',\n",
      " 'date': 'Tue, 19 Mar 2024 10:10:24 GMT',\n",
      " 'server': 'nginx',\n",
      " 'status': '200',\n",
      " 'transfer-encoding': 'chunked',\n",
      " 'vary': 'Accept-Encoding'}\n",
      "===Content===\n",
      "(b'<?xml version=\"1.0\" encoding=\"UTF-8\" standalone=\"yes\"?><response><responseMe'\n",
      " b'tadata><httpCode>200</httpCode><errorType>Ok</errorType><description>Success'\n",
      " b'</description><cappingApplied>No</cappingApplied><cappingLimit>100</cappingL'\n",
      " b'imit><queryString>SettlementDate=2015-03-01,Period=1</queryString></response'\n",
      " b'Metadata><responseBody><dataItem>B1770</dataItem><responseList><item><timeSe'\n",
      " b'riesID>ELX-EMFIP-IMBP-TS-1</timeSeriesID><businessType>Balance energy deviat'\n",
      " b'ion</businessType><controlArea>10YGB----------A</controlArea><settlementDate'\n",
      " b'>2015-03-01</settlementDate><settlementPeriod>1</settlementPeriod><imbalance'\n",
      " b'PriceAmountGBP>46.4524</imbalancePriceAmountGBP><priceCategory>Insufficient '\n",
      " b'balance</priceCategory><curveType>Sequential fixed size block</curveType><re'\n",
      " b'solution>PT30M</resolution><documentType>Imbalance prices</documentType><pro'\n",
      " b'cessType>Realised</processType><activeFlag>Y</activeFlag><docStatus>Final</d'\n",
      " b'ocStatus><documentID>ELX-EMFIP-IMBP-1189661</documentID><documentRevNum>1</d'\n",
      " b'ocumentRevNum></item><item><timeSeriesID>ELX-EMFIP-IMBP-TS-2</timeSeriesID><'\n",
      " b'businessType>Balance energy deviation</businessType><controlArea>10YGB------'\n",
      " b'----A</controlArea><settlementDate>2015-03-01</settlementDate><settlementPer'\n",
      " b'iod>1</settlementPeriod><imbalancePriceAmountGBP>30.71</imbalancePriceAmount'\n",
      " b'GBP><priceCategory>Excess balance</priceCategory><curveType>Sequential fixed'\n",
      " b' size block</curveType><resolution>PT30M</resolution><documentType>Imbalance'\n",
      " b' prices</documentType><processType>Realised</processType><activeFlag>Y</acti'\n",
      " b'veFlag><docStatus>Final</docStatus><documentID>ELX-EMFIP-IMBP-1189661</docum'\n",
      " b'entID><documentRevNum>1</documentRevNum></item></responseList></responseBody'\n",
      " b'></response>')\n",
      "===Finished===\n"
     ]
    }
   ],
   "source": [
    "main()"
   ]
  },
  {
   "cell_type": "code",
   "execution_count": null,
   "metadata": {},
   "outputs": [],
   "source": []
  }
 ],
 "metadata": {
  "kernelspec": {
   "display_name": "market",
   "language": "python",
   "name": "python3"
  },
  "language_info": {
   "codemirror_mode": {
    "name": "ipython",
    "version": 3
   },
   "file_extension": ".py",
   "mimetype": "text/x-python",
   "name": "python",
   "nbconvert_exporter": "python",
   "pygments_lexer": "ipython3",
   "version": "3.11.6"
  }
 },
 "nbformat": 4,
 "nbformat_minor": 2
}
