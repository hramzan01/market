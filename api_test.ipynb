{
 "cells": [
  {
   "cell_type": "code",
   "execution_count": 1,
   "metadata": {},
   "outputs": [
    {
     "name": "stderr",
     "output_type": "stream",
     "text": [
      "/home/rahuliyer/.pyenv/versions/3.11.6/envs/market/lib/python3.11/site-packages/tqdm/auto.py:21: TqdmWarning: IProgress not found. Please update jupyter and ipywidgets. See https://ipywidgets.readthedocs.io/en/stable/user_install.html\n",
      "  from .autonotebook import tqdm as notebook_tqdm\n",
      "2024-03-30 10:59:14.745052: I tensorflow/core/util/port.cc:113] oneDNN custom operations are on. You may see slightly different numerical results due to floating-point round-off errors from different computation orders. To turn them off, set the environment variable `TF_ENABLE_ONEDNN_OPTS=0`.\n",
      "2024-03-30 10:59:14.745380: I external/local_tsl/tsl/cuda/cudart_stub.cc:32] Could not find cuda drivers on your machine, GPU will not be used.\n",
      "2024-03-30 10:59:14.747624: I external/local_tsl/tsl/cuda/cudart_stub.cc:32] Could not find cuda drivers on your machine, GPU will not be used.\n",
      "2024-03-30 10:59:14.775535: I tensorflow/core/platform/cpu_feature_guard.cc:210] This TensorFlow binary is optimized to use available CPU instructions in performance-critical operations.\n",
      "To enable the following instructions: AVX2 AVX_VNNI FMA, in other operations, rebuild TensorFlow with the appropriate compiler flags.\n",
      "2024-03-30 10:59:15.410437: W tensorflow/compiler/tf2tensorrt/utils/py_utils.cc:38] TF-TRT Warning: Could not find TensorRT\n"
     ]
    }
   ],
   "source": [
    "import pandas as pd\n",
    "from datetime import datetime\n",
    "from fastapi.middleware.cors import CORSMiddleware\n",
    "from fastapi import FastAPI\n",
    "from energy_price_pred.energypricepred import *\n",
    "import json\n",
    "from market.ml_logic.optimsier_model_var_in_deep import *\n",
    "\n",
    "# from market.models import price_model\n",
    "# from market.ml_logic.cons_model import *\n",
    "# from market.ml_logic.energy_price_model import *\n",
    "# from market.ml_logic.gen_model_efficient import *\n",
    "\n",
    "import matplotlib.pylab as plt"
   ]
  },
  {
   "cell_type": "code",
   "execution_count": 12,
   "metadata": {},
   "outputs": [],
   "source": [
    "app = FastAPI()\n",
    "\n",
    "@app.get(\"/predict\")\n",
    "def predict(battery_size: int, # 5 total size\n",
    "            battery_charge: int): # 1 initial charge amount\n",
    "    \"\"\"predicting Buy/Sell price as first pass\"\"\"\n",
    "\n",
    "    # date=pd.Timestamp(date)\n",
    "    output_keys = ['SalePrice_p/kwh', 'PurchasePrice_p/kwh', 'Generation_kwh', 'Consumption_kwh']\n",
    "\n",
    "    res = run_full_model_api(int(battery_size), int(battery_charge))\n",
    "\n",
    "    res_pred_saleprice = pd.DataFrame.from_dict(res['predicted_data']['SalePrice_p/kwh']) #pd.DataFrame.from_dict(res['predicted_data'])\n",
    "    res_pred_all= pd.DataFrame.from_dict(res['predicted_data'])#pd.DataFrame.from_dict(res['predicted_data'])\n",
    "    res_opt_batt= pd.DataFrame(res['optimised_battery_storage'])\n",
    "    res_opt_buyprice= pd.DataFrame(res['optimised_energy_purchase_price'])\n",
    "    res_opt_sellprice= pd.DataFrame(res['optimised_energy_sold_price'])\n",
    "    res_opt_baseprice= pd.DataFrame(res['baseline_hourly_price'])\n",
    "    res_weather_code = res['weather_code']\n",
    "    res_weather_code_reset = res_weather_code.reset_index()\n",
    "    res_weather_code_reset = res_weather_code_reset.drop(columns=['ds'])\n",
    "    res_weather_code_reset = res_weather_code_reset['weather_code'].tolist()\n",
    "\n",
    "    output = {'prediction_data': res_pred_all}#, 'res_opt_batt': res_opt_batt, 'res_opt_buyprice': res_opt_buyprice,\n",
    "              #'res_opt_sellprice': res_opt_sellprice, 'res_opt_baseprice': res_opt_baseprice}#,\n",
    "              #'res_weather_code': res_weather_code_reset}\n",
    "    return output# {'keys': str(res.keys())}\n",
    "\n",
    "@app.get(\"/\")\n",
    "def root():\n",
    "    return {'greeting': 'Hello there'}"
   ]
  },
  {
   "cell_type": "code",
   "execution_count": 13,
   "metadata": {},
   "outputs": [],
   "source": [
    "def predict_test(battery_size: int, # 5 total size\n",
    "            battery_charge: int): # 1 initial charge amount\n",
    "    \"\"\"predicting Buy/Sell price as first pass\"\"\"\n",
    "\n",
    "    # date=pd.Timestamp(date)\n",
    "    output_keys = ['SalePrice_p/kwh', 'PurchasePrice_p/kwh', 'Generation_kwh', 'Consumption_kwh']\n",
    "\n",
    "    res = run_full_model_api(int(battery_size), int(battery_charge))\n",
    "\n",
    "    res_pred_saleprice = pd.DataFrame.from_dict(res['predicted_data']['SalePrice_p/kwh']) #pd.DataFrame.from_dict(res['predicted_data'])\n",
    "    res_pred_all= pd.DataFrame.from_dict(res['predicted_data'])#pd.DataFrame.from_dict(res['predicted_data'])\n",
    "    res_opt_batt= pd.DataFrame(res['optimised_battery_storage'])\n",
    "    res_opt_buyprice= pd.DataFrame(res['optimised_energy_purchase_price'])\n",
    "    res_opt_sellprice= pd.DataFrame(res['optimised_energy_sold_price'])\n",
    "    res_opt_baseprice= pd.DataFrame(res['baseline_hourly_price'])\n",
    "    res_weather_code = res['weather_code']\n",
    "    res_weather_code_reset = res_weather_code.reset_index()\n",
    "    res_weather_code_reset = res_weather_code_reset.drop(columns=['ds'])\n",
    "    res_weather_code_reset = res_weather_code_reset['weather_code'].tolist()\n",
    "\n",
    "    output = {'prediction_data': res_pred_all}#, 'res_opt_batt': res_opt_batt, 'res_opt_buyprice': res_opt_buyprice,\n",
    "              #'res_opt_sellprice': res_opt_sellprice, 'res_opt_baseprice': res_opt_baseprice}#,\n",
    "              #'res_weather_code': res_weather_code_reset}\n",
    "    return output# {'keys': str(res.keys())}"
   ]
  },
  {
   "cell_type": "code",
   "execution_count": 14,
   "metadata": {},
   "outputs": [
    {
     "name": "stdout",
     "output_type": "stream",
     "text": [
      "Cost forecasted\n",
      "Energy consumption forecasted\n",
      "WARNING:tensorflow:5 out of the last 13 calls to <function TensorFlowTrainer.make_predict_function.<locals>.one_step_on_data_distributed at 0x7fb197ce0a40> triggered tf.function retracing. Tracing is expensive and the excessive number of tracings could be due to (1) creating @tf.function repeatedly in a loop, (2) passing tensors with different shapes, (3) passing Python objects instead of tensors. For (1), please define your @tf.function outside of the loop. For (2), @tf.function has reduce_retracing=True option that can avoid unnecessary retracing. For (3), please refer to https://www.tensorflow.org/guide/function#controlling_retracing and https://www.tensorflow.org/api_docs/python/tf/function for  more details.\n",
      "\u001b[1m6/6\u001b[0m \u001b[32m━━━━━━━━━━━━━━━━━━━━\u001b[0m\u001b[37m\u001b[0m \u001b[1m0s\u001b[0m 4ms/step \n",
      "Model optimsied\n",
      "Basline model running\n"
     ]
    },
    {
     "data": {
      "text/plain": [
       "{'prediction_data':                      SalePrice_p/kwh  PurchasePrice_p/kwh  Generation_kwh  \\\n",
       " ds                                                                          \n",
       " 2024-03-30 00:00:00         7.440950            14.881899             0.0   \n",
       " 2024-03-30 01:00:00         7.008441            14.016881             0.0   \n",
       " 2024-03-30 02:00:00         6.531323            13.062646             0.0   \n",
       " 2024-03-30 03:00:00         6.409842            12.819684             0.0   \n",
       " 2024-03-30 04:00:00         6.760686            13.521372             0.0   \n",
       " ...                              ...                  ...             ...   \n",
       " 2024-04-01 19:00:00        10.475176            20.950352             0.0   \n",
       " 2024-04-01 20:00:00         8.893433            17.786867             0.0   \n",
       " 2024-04-01 21:00:00         7.869465            15.738931             0.0   \n",
       " 2024-04-01 22:00:00         7.607336            15.214672             0.0   \n",
       " 2024-04-01 23:00:00         7.709580            15.419160             0.0   \n",
       " \n",
       "                      Consumption_kwh  \n",
       " ds                                    \n",
       " 2024-03-30 00:00:00         0.429404  \n",
       " 2024-03-30 01:00:00         0.365603  \n",
       " 2024-03-30 02:00:00         0.317523  \n",
       " 2024-03-30 03:00:00         0.286281  \n",
       " 2024-03-30 04:00:00         0.279110  \n",
       " ...                              ...  \n",
       " 2024-04-01 19:00:00         0.716893  \n",
       " 2024-04-01 20:00:00         0.731578  \n",
       " 2024-04-01 21:00:00         0.688024  \n",
       " 2024-04-01 22:00:00         0.604286  \n",
       " 2024-04-01 23:00:00         0.509691  \n",
       " \n",
       " [72 rows x 4 columns]}"
      ]
     },
     "execution_count": 14,
     "metadata": {},
     "output_type": "execute_result"
    }
   ],
   "source": [
    "output = predict_test(5, 1)\n",
    "output"
   ]
  },
  {
   "cell_type": "code",
   "execution_count": 17,
   "metadata": {},
   "outputs": [
    {
     "data": {
      "text/html": [
       "<div>\n",
       "<style scoped>\n",
       "    .dataframe tbody tr th:only-of-type {\n",
       "        vertical-align: middle;\n",
       "    }\n",
       "\n",
       "    .dataframe tbody tr th {\n",
       "        vertical-align: top;\n",
       "    }\n",
       "\n",
       "    .dataframe thead th {\n",
       "        text-align: right;\n",
       "    }\n",
       "</style>\n",
       "<table border=\"1\" class=\"dataframe\">\n",
       "  <thead>\n",
       "    <tr style=\"text-align: right;\">\n",
       "      <th></th>\n",
       "      <th>SalePrice_p/kwh</th>\n",
       "      <th>PurchasePrice_p/kwh</th>\n",
       "      <th>Generation_kwh</th>\n",
       "      <th>Consumption_kwh</th>\n",
       "    </tr>\n",
       "    <tr>\n",
       "      <th>ds</th>\n",
       "      <th></th>\n",
       "      <th></th>\n",
       "      <th></th>\n",
       "      <th></th>\n",
       "    </tr>\n",
       "  </thead>\n",
       "  <tbody>\n",
       "    <tr>\n",
       "      <th>2024-03-30 00:00:00</th>\n",
       "      <td>7.440950</td>\n",
       "      <td>14.881899</td>\n",
       "      <td>0.0</td>\n",
       "      <td>0.429404</td>\n",
       "    </tr>\n",
       "    <tr>\n",
       "      <th>2024-03-30 01:00:00</th>\n",
       "      <td>7.008441</td>\n",
       "      <td>14.016881</td>\n",
       "      <td>0.0</td>\n",
       "      <td>0.365603</td>\n",
       "    </tr>\n",
       "    <tr>\n",
       "      <th>2024-03-30 02:00:00</th>\n",
       "      <td>6.531323</td>\n",
       "      <td>13.062646</td>\n",
       "      <td>0.0</td>\n",
       "      <td>0.317523</td>\n",
       "    </tr>\n",
       "    <tr>\n",
       "      <th>2024-03-30 03:00:00</th>\n",
       "      <td>6.409842</td>\n",
       "      <td>12.819684</td>\n",
       "      <td>0.0</td>\n",
       "      <td>0.286281</td>\n",
       "    </tr>\n",
       "    <tr>\n",
       "      <th>2024-03-30 04:00:00</th>\n",
       "      <td>6.760686</td>\n",
       "      <td>13.521372</td>\n",
       "      <td>0.0</td>\n",
       "      <td>0.279110</td>\n",
       "    </tr>\n",
       "    <tr>\n",
       "      <th>...</th>\n",
       "      <td>...</td>\n",
       "      <td>...</td>\n",
       "      <td>...</td>\n",
       "      <td>...</td>\n",
       "    </tr>\n",
       "    <tr>\n",
       "      <th>2024-04-01 19:00:00</th>\n",
       "      <td>10.475176</td>\n",
       "      <td>20.950352</td>\n",
       "      <td>0.0</td>\n",
       "      <td>0.716893</td>\n",
       "    </tr>\n",
       "    <tr>\n",
       "      <th>2024-04-01 20:00:00</th>\n",
       "      <td>8.893433</td>\n",
       "      <td>17.786867</td>\n",
       "      <td>0.0</td>\n",
       "      <td>0.731578</td>\n",
       "    </tr>\n",
       "    <tr>\n",
       "      <th>2024-04-01 21:00:00</th>\n",
       "      <td>7.869465</td>\n",
       "      <td>15.738931</td>\n",
       "      <td>0.0</td>\n",
       "      <td>0.688024</td>\n",
       "    </tr>\n",
       "    <tr>\n",
       "      <th>2024-04-01 22:00:00</th>\n",
       "      <td>7.607336</td>\n",
       "      <td>15.214672</td>\n",
       "      <td>0.0</td>\n",
       "      <td>0.604286</td>\n",
       "    </tr>\n",
       "    <tr>\n",
       "      <th>2024-04-01 23:00:00</th>\n",
       "      <td>7.709580</td>\n",
       "      <td>15.419160</td>\n",
       "      <td>0.0</td>\n",
       "      <td>0.509691</td>\n",
       "    </tr>\n",
       "  </tbody>\n",
       "</table>\n",
       "<p>72 rows × 4 columns</p>\n",
       "</div>"
      ],
      "text/plain": [
       "                     SalePrice_p/kwh  PurchasePrice_p/kwh  Generation_kwh  \\\n",
       "ds                                                                          \n",
       "2024-03-30 00:00:00         7.440950            14.881899             0.0   \n",
       "2024-03-30 01:00:00         7.008441            14.016881             0.0   \n",
       "2024-03-30 02:00:00         6.531323            13.062646             0.0   \n",
       "2024-03-30 03:00:00         6.409842            12.819684             0.0   \n",
       "2024-03-30 04:00:00         6.760686            13.521372             0.0   \n",
       "...                              ...                  ...             ...   \n",
       "2024-04-01 19:00:00        10.475176            20.950352             0.0   \n",
       "2024-04-01 20:00:00         8.893433            17.786867             0.0   \n",
       "2024-04-01 21:00:00         7.869465            15.738931             0.0   \n",
       "2024-04-01 22:00:00         7.607336            15.214672             0.0   \n",
       "2024-04-01 23:00:00         7.709580            15.419160             0.0   \n",
       "\n",
       "                     Consumption_kwh  \n",
       "ds                                    \n",
       "2024-03-30 00:00:00         0.429404  \n",
       "2024-03-30 01:00:00         0.365603  \n",
       "2024-03-30 02:00:00         0.317523  \n",
       "2024-03-30 03:00:00         0.286281  \n",
       "2024-03-30 04:00:00         0.279110  \n",
       "...                              ...  \n",
       "2024-04-01 19:00:00         0.716893  \n",
       "2024-04-01 20:00:00         0.731578  \n",
       "2024-04-01 21:00:00         0.688024  \n",
       "2024-04-01 22:00:00         0.604286  \n",
       "2024-04-01 23:00:00         0.509691  \n",
       "\n",
       "[72 rows x 4 columns]"
      ]
     },
     "execution_count": 17,
     "metadata": {},
     "output_type": "execute_result"
    }
   ],
   "source": [
    "output['prediction_data']"
   ]
  },
  {
   "cell_type": "code",
   "execution_count": null,
   "metadata": {},
   "outputs": [],
   "source": [
    "!pwd"
   ]
  },
  {
   "cell_type": "code",
   "execution_count": 15,
   "metadata": {},
   "outputs": [
    {
     "name": "stdout",
     "output_type": "stream",
     "text": [
      "<class 'pandas.core.frame.DataFrame'>\n",
      "DatetimeIndex: 72 entries, 2024-03-30 00:00:00 to 2024-04-01 23:00:00\n",
      "Data columns (total 4 columns):\n",
      " #   Column               Non-Null Count  Dtype  \n",
      "---  ------               --------------  -----  \n",
      " 0   SalePrice_p/kwh      72 non-null     float64\n",
      " 1   PurchasePrice_p/kwh  72 non-null     float64\n",
      " 2   Generation_kwh       72 non-null     float32\n",
      " 3   Consumption_kwh      72 non-null     float64\n",
      "dtypes: float32(1), float64(3)\n",
      "memory usage: 2.5 KB\n"
     ]
    }
   ],
   "source": [
    "df = output['prediction_data']\n",
    "df.info()"
   ]
  },
  {
   "cell_type": "code",
   "execution_count": null,
   "metadata": {},
   "outputs": [],
   "source": [
    "plt.plot(df.index, df['weather_code'])"
   ]
  },
  {
   "cell_type": "code",
   "execution_count": null,
   "metadata": {},
   "outputs": [],
   "source": [
    "output['prediction_data'].info()"
   ]
  },
  {
   "cell_type": "code",
   "execution_count": null,
   "metadata": {},
   "outputs": [],
   "source": [
    "df_reset = df.reset_index()\n",
    "df_reset.head()"
   ]
  },
  {
   "cell_type": "code",
   "execution_count": null,
   "metadata": {},
   "outputs": [],
   "source": [
    "output['res_weather_code']['weather_code']"
   ]
  },
  {
   "cell_type": "code",
   "execution_count": null,
   "metadata": {},
   "outputs": [],
   "source": [
    "df_reset_drop = df_reset.drop(columns=['ds'])\n",
    "df_reset_drop['weather_code'].astype(int)"
   ]
  },
  {
   "cell_type": "code",
   "execution_count": null,
   "metadata": {},
   "outputs": [],
   "source": [
    "df_reset_drop.info()"
   ]
  },
  {
   "cell_type": "code",
   "execution_count": null,
   "metadata": {},
   "outputs": [],
   "source": [
    "df_reset_drop"
   ]
  },
  {
   "cell_type": "code",
   "execution_count": null,
   "metadata": {},
   "outputs": [],
   "source": []
  }
 ],
 "metadata": {
  "kernelspec": {
   "display_name": "market",
   "language": "python",
   "name": "python3"
  },
  "language_info": {
   "codemirror_mode": {
    "name": "ipython",
    "version": 3
   },
   "file_extension": ".py",
   "mimetype": "text/x-python",
   "name": "python",
   "nbconvert_exporter": "python",
   "pygments_lexer": "ipython3",
   "version": "3.11.6"
  }
 },
 "nbformat": 4,
 "nbformat_minor": 2
}
