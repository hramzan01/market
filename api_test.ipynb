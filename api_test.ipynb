{
 "cells": [
  {
   "cell_type": "code",
   "execution_count": 3,
   "metadata": {},
   "outputs": [],
   "source": [
    "import pandas as pd\n",
    "from datetime import datetime\n",
    "from fastapi.middleware.cors import CORSMiddleware\n",
    "from fastapi import FastAPI\n",
    "from energy_price_pred.energypricepred import *\n",
    "import json\n",
    "from market.ml_logic.optimiser_model_variable_inputs_copy_ri2 import *\n",
    "\n",
    "# from market.models import price_model\n",
    "# from market.ml_logic.cons_model import *\n",
    "# from market.ml_logic.energy_price_model import *\n",
    "# from market.ml_logic.gen_model_efficient import *\n",
    "\n",
    "import matplotlib.pylab as plt"
   ]
  },
  {
   "cell_type": "code",
   "execution_count": 4,
   "metadata": {},
   "outputs": [],
   "source": [
    "app = FastAPI()\n",
    "\n",
    "@app.get(\"/predict\")\n",
    "def predict(battery_size: int, # 5 total size\n",
    "            battery_charge: int): # 1 initial charge amount\n",
    "    \"\"\"predicting Buy/Sell price as first pass\"\"\"\n",
    "\n",
    "    # date=pd.Timestamp(date)\n",
    "    output_keys = ['SalePrice_p/kwh', 'PurchasePrice_p/kwh', 'Generation_kwh', 'Consumption_kwh']\n",
    "\n",
    "    res = run_full_model_api(int(battery_size), int(battery_charge))\n",
    "\n",
    "    # res_dict = json.loads(res)\n",
    "\n",
    "    res_pred_saleprice = pd.DataFrame.from_dict(res['predicted_data']['SalePrice_p/kwh']) #pd.DataFrame.from_dict(res['predicted_data'])\n",
    "    res_pred_all= res['predicted_data']#pd.DataFrame.from_dict(res['predicted_data'])\n",
    "    res_opt_batt= pd.DataFrame(res['optimised_battery_storage'])\n",
    "    res_opt_buyprice= pd.DataFrame(res['optimised_energy_purchase_price'])\n",
    "    res_opt_sellprice= pd.DataFrame(res['optimised_energy_sold_price'])\n",
    "    res_opt_baseprice= pd.DataFrame(res['baseline_hourly_price'])\n",
    "    res_weather_code = res['weather_code']\n",
    "    key_list=[]\n",
    "    value_list=[]\n",
    "    data_saleprice = res_pred_saleprice['SalePrice_p/kwh']\n",
    "    for key, value in data_saleprice.items():\n",
    "        key_list.append(key)\n",
    "        value_list.append(value)\n",
    "    #return {'res':f'key is {key_list[0]} of type {type(key_list[0])} and value is {value_list[0]}'} #{\"res columns\": res_pred_saleprice}\n",
    "    output = {'prediction_data': res_pred_all, 'res_opt_batt': res_opt_batt, 'res_opt_buyprice': res_opt_buyprice,\n",
    "              'res_opt_sellprice': res_opt_sellprice, 'res_opt_baseprice': res_opt_baseprice, 'res_weather_code': res_weather_code}\n",
    "    return output# {'keys': str(res.keys())}\n",
    "\n",
    "@app.get(\"/\")\n",
    "def root():\n",
    "    return {'greeting': 'Hello there'}"
   ]
  },
  {
   "cell_type": "code",
   "execution_count": 5,
   "metadata": {},
   "outputs": [],
   "source": [
    "def predict_test(battery_size: int, # 5 total size\n",
    "            battery_charge: int): # 1 initial charge amount\n",
    "    \"\"\"predicting Buy/Sell price as first pass\"\"\"\n",
    "\n",
    "    # date=pd.Timestamp(date)\n",
    "    output_keys = ['SalePrice_p/kwh', 'PurchasePrice_p/kwh', 'Generation_kwh', 'Consumption_kwh']\n",
    "\n",
    "    res = run_full_model_api(int(battery_size), int(battery_charge))\n",
    "\n",
    "    # res_dict = json.loads(res)\n",
    "\n",
    "    res_pred_saleprice = pd.DataFrame.from_dict(res['predicted_data']['SalePrice_p/kwh']) #pd.DataFrame.from_dict(res['predicted_data'])\n",
    "    res_pred_all= res['predicted_data']#pd.DataFrame.from_dict(res['predicted_data'])\n",
    "    res_opt_batt= pd.DataFrame(res['optimised_battery_storage'])\n",
    "    res_opt_buyprice= pd.DataFrame(res['optimised_energy_purchase_price'])\n",
    "    res_opt_sellprice= pd.DataFrame(res['optimised_energy_sold_price'])\n",
    "    res_opt_baseprice= pd.DataFrame(res['baseline_hourly_price'])\n",
    "    res_weather_code = res['weather_code']\n",
    "    key_list=[]\n",
    "    value_list=[]\n",
    "    data_saleprice = res_pred_saleprice['SalePrice_p/kwh']\n",
    "    for key, value in data_saleprice.items():\n",
    "        key_list.append(key)\n",
    "        value_list.append(value)\n",
    "    #return {'res':f'key is {key_list[0]} of type {type(key_list[0])} and value is {value_list[0]}'} #{\"res columns\": res_pred_saleprice}\n",
    "    output = {'prediction_data': res_pred_all, 'res_opt_batt': res_opt_batt, 'res_opt_buyprice': res_opt_buyprice,\n",
    "              'res_opt_sellprice': res_opt_sellprice, 'res_opt_baseprice': res_opt_baseprice, 'res_weather_code': res_weather_code}\n",
    "    return output# {'keys': str(res.keys())}\n"
   ]
  },
  {
   "cell_type": "code",
   "execution_count": 6,
   "metadata": {},
   "outputs": [
    {
     "name": "stdout",
     "output_type": "stream",
     "text": [
      "Cost forecasted\n",
      "Energy consumption forecasted\n"
     ]
    },
    {
     "name": "stderr",
     "output_type": "stream",
     "text": [
      "2024-03-30 07:16:04.447731: I external/local_xla/xla/stream_executor/cuda/cuda_executor.cc:984] could not open file to read NUMA node: /sys/bus/pci/devices/0000:01:00.0/numa_node\n",
      "Your kernel may have been built without NUMA support.\n",
      "2024-03-30 07:16:04.448114: W tensorflow/core/common_runtime/gpu/gpu_device.cc:2251] Cannot dlopen some GPU libraries. Please make sure the missing libraries mentioned above are installed properly if you would like to use GPU. Follow the guide at https://www.tensorflow.org/install/gpu for how to download and setup the required libraries for your platform.\n",
      "Skipping registering GPU devices...\n"
     ]
    },
    {
     "name": "stdout",
     "output_type": "stream",
     "text": [
      "\u001b[1m3/3\u001b[0m \u001b[32m━━━━━━━━━━━━━━━━━━━━\u001b[0m\u001b[37m\u001b[0m \u001b[1m0s\u001b[0m 40ms/step\n"
     ]
    },
    {
     "name": "stderr",
     "output_type": "stream",
     "text": [
      "2024-03-30 07:16:05.051598: W tensorflow/core/framework/local_rendezvous.cc:404] Local rendezvous is aborting with status: OUT_OF_RANGE: End of sequence\n"
     ]
    },
    {
     "name": "stdout",
     "output_type": "stream",
     "text": [
      "Model optimsied\n",
      "Basline model running\n"
     ]
    },
    {
     "data": {
      "text/plain": [
       "{'prediction_data':                      SalePrice_p/kwh  PurchasePrice_p/kwh  Generation_kwh  \\\n",
       " ds                                                                          \n",
       " 2024-03-28 15:00:00         9.433667            18.867334             0.0   \n",
       " 2024-03-28 16:00:00        12.699970            25.399940             0.0   \n",
       " 2024-03-28 17:00:00        14.529362            29.058723             0.0   \n",
       " 2024-03-28 18:00:00        13.720664            27.441327             0.0   \n",
       " 2024-03-28 19:00:00        10.766625            21.533250             0.0   \n",
       " ...                              ...                  ...             ...   \n",
       " 2024-04-04 10:00:00         6.744668            13.489337             0.0   \n",
       " 2024-04-04 11:00:00         6.245182            12.490365             0.0   \n",
       " 2024-04-04 12:00:00         5.187862            10.375724             0.0   \n",
       " 2024-04-04 13:00:00         4.584535             9.169071             0.0   \n",
       " 2024-04-04 14:00:00         5.629086            11.258173             0.0   \n",
       " \n",
       "                      Consumption_kwh  \n",
       " ds                                    \n",
       " 2024-03-28 15:00:00         0.457032  \n",
       " 2024-03-28 16:00:00         0.489400  \n",
       " 2024-03-28 17:00:00         0.557899  \n",
       " 2024-03-28 18:00:00         0.643306  \n",
       " 2024-03-28 19:00:00         0.709850  \n",
       " ...                              ...  \n",
       " 2024-04-04 10:00:00         0.486504  \n",
       " 2024-04-04 11:00:00         0.488325  \n",
       " 2024-04-04 12:00:00         0.483123  \n",
       " 2024-04-04 13:00:00         0.470946  \n",
       " 2024-04-04 14:00:00         0.457373  \n",
       " \n",
       " [168 rows x 4 columns],\n",
       " 'res_opt_batt':             0\n",
       " 0    1.000000\n",
       " 1    1.528692\n",
       " 2    1.735107\n",
       " 3    1.199572\n",
       " 4    0.591591\n",
       " ..        ...\n",
       " 164  1.706410\n",
       " 165  1.631801\n",
       " 166  1.446986\n",
       " 167  1.342966\n",
       " 168  1.060119\n",
       " \n",
       " [169 rows x 1 columns],\n",
       " 'res_opt_buyprice':              0\n",
       " 0    18.597969\n",
       " 1    17.673688\n",
       " 2     0.649849\n",
       " 3     0.969362\n",
       " 4     4.039207\n",
       " ..         ...\n",
       " 163   6.174561\n",
       " 164   5.167463\n",
       " 165   3.095164\n",
       " 166   3.364370\n",
       " 167   1.964841\n",
       " \n",
       " [168 rows x 1 columns],\n",
       " 'res_opt_sellprice':        0\n",
       " 0    0.0\n",
       " 1    0.0\n",
       " 2    0.0\n",
       " 3    0.0\n",
       " 4    0.0\n",
       " ..   ...\n",
       " 163  0.0\n",
       " 164  0.0\n",
       " 165  0.0\n",
       " 166  0.0\n",
       " 167  0.0\n",
       " \n",
       " [168 rows x 1 columns],\n",
       " 'res_opt_baseprice':              0\n",
       " 0     8.622966\n",
       " 1    12.430740\n",
       " 2    16.211828\n",
       " 3    17.653171\n",
       " 4    15.285373\n",
       " ..         ...\n",
       " 163   6.562614\n",
       " 164   6.099360\n",
       " 165   5.012750\n",
       " 166   4.318136\n",
       " 167   5.149180\n",
       " \n",
       " [168 rows x 1 columns],\n",
       " 'res_weather_code':                      weather_code\n",
       " ds                               \n",
       " 2024-03-28 15:00:00             1\n",
       " 2024-03-28 16:00:00             2\n",
       " 2024-03-28 17:00:00             2\n",
       " 2024-03-28 18:00:00             1\n",
       " 2024-03-28 19:00:00             2\n",
       " ...                           ...\n",
       " 2024-04-04 10:00:00             3\n",
       " 2024-04-04 11:00:00             3\n",
       " 2024-04-04 12:00:00             3\n",
       " 2024-04-04 13:00:00             3\n",
       " 2024-04-04 14:00:00             3\n",
       " \n",
       " [168 rows x 1 columns]}"
      ]
     },
     "execution_count": 6,
     "metadata": {},
     "output_type": "execute_result"
    }
   ],
   "source": [
    "output = predict_test(5, 1)\n",
    "output"
   ]
  },
  {
   "cell_type": "code",
   "execution_count": 1,
   "metadata": {},
   "outputs": [
    {
     "name": "stdout",
     "output_type": "stream",
     "text": [
      "/home/rahuliyer/code/hramzan01/market\n"
     ]
    }
   ],
   "source": [
    "!pwd"
   ]
  },
  {
   "cell_type": "code",
   "execution_count": 13,
   "metadata": {},
   "outputs": [
    {
     "name": "stdout",
     "output_type": "stream",
     "text": [
      "<class 'pandas.core.frame.DataFrame'>\n",
      "DatetimeIndex: 168 entries, 2024-03-28 15:00:00 to 2024-04-04 14:00:00\n",
      "Data columns (total 1 columns):\n",
      " #   Column        Non-Null Count  Dtype\n",
      "---  ------        --------------  -----\n",
      " 0   weather_code  168 non-null    int64\n",
      "dtypes: int64(1)\n",
      "memory usage: 2.6 KB\n"
     ]
    }
   ],
   "source": [
    "df = output['res_weather_code']\n",
    "df.info()"
   ]
  },
  {
   "cell_type": "code",
   "execution_count": 12,
   "metadata": {},
   "outputs": [
    {
     "data": {
      "text/plain": [
       "[<matplotlib.lines.Line2D at 0x7fab78457cd0>]"
      ]
     },
     "execution_count": 12,
     "metadata": {},
     "output_type": "execute_result"
    },
    {
     "data": {
      "image/png": "[encoded data removed]",
      "text/plain": [
       "<Figure size 640x480 with 1 Axes>"
      ]
     },
     "metadata": {},
     "output_type": "display_data"
    }
   ],
   "source": [
    "plt.plot(df.index, df['weather_code'])"
   ]
  },
  {
   "cell_type": "code",
   "execution_count": 16,
   "metadata": {},
   "outputs": [
    {
     "name": "stdout",
     "output_type": "stream",
     "text": [
      "<class 'pandas.core.frame.DataFrame'>\n",
      "DatetimeIndex: 168 entries, 2024-03-28 15:00:00 to 2024-04-04 14:00:00\n",
      "Data columns (total 4 columns):\n",
      " #   Column               Non-Null Count  Dtype  \n",
      "---  ------               --------------  -----  \n",
      " 0   SalePrice_p/kwh      168 non-null    float64\n",
      " 1   PurchasePrice_p/kwh  168 non-null    float64\n",
      " 2   Generation_kwh       168 non-null    float64\n",
      " 3   Consumption_kwh      168 non-null    float64\n",
      "dtypes: float64(4)\n",
      "memory usage: 6.6 KB\n"
     ]
    }
   ],
   "source": [
    "output['prediction_data'].info()"
   ]
  },
  {
   "cell_type": "code",
   "execution_count": 17,
   "metadata": {},
   "outputs": [
    {
     "data": {
      "text/html": [
       "<div>\n",
       "<style scoped>\n",
       "    .dataframe tbody tr th:only-of-type {\n",
       "        vertical-align: middle;\n",
       "    }\n",
       "\n",
       "    .dataframe tbody tr th {\n",
       "        vertical-align: top;\n",
       "    }\n",
       "\n",
       "    .dataframe thead th {\n",
       "        text-align: right;\n",
       "    }\n",
       "</style>\n",
       "<table border=\"1\" class=\"dataframe\">\n",
       "  <thead>\n",
       "    <tr style=\"text-align: right;\">\n",
       "      <th></th>\n",
       "      <th>ds</th>\n",
       "      <th>weather_code</th>\n",
       "    </tr>\n",
       "  </thead>\n",
       "  <tbody>\n",
       "    <tr>\n",
       "      <th>0</th>\n",
       "      <td>2024-03-28 15:00:00</td>\n",
       "      <td>1</td>\n",
       "    </tr>\n",
       "    <tr>\n",
       "      <th>1</th>\n",
       "      <td>2024-03-28 16:00:00</td>\n",
       "      <td>2</td>\n",
       "    </tr>\n",
       "    <tr>\n",
       "      <th>2</th>\n",
       "      <td>2024-03-28 17:00:00</td>\n",
       "      <td>2</td>\n",
       "    </tr>\n",
       "    <tr>\n",
       "      <th>3</th>\n",
       "      <td>2024-03-28 18:00:00</td>\n",
       "      <td>1</td>\n",
       "    </tr>\n",
       "    <tr>\n",
       "      <th>4</th>\n",
       "      <td>2024-03-28 19:00:00</td>\n",
       "      <td>2</td>\n",
       "    </tr>\n",
       "  </tbody>\n",
       "</table>\n",
       "</div>"
      ],
      "text/plain": [
       "                   ds  weather_code\n",
       "0 2024-03-28 15:00:00             1\n",
       "1 2024-03-28 16:00:00             2\n",
       "2 2024-03-28 17:00:00             2\n",
       "3 2024-03-28 18:00:00             1\n",
       "4 2024-03-28 19:00:00             2"
      ]
     },
     "execution_count": 17,
     "metadata": {},
     "output_type": "execute_result"
    }
   ],
   "source": [
    "df_reset = df.reset_index()\n",
    "df_reset.head()"
   ]
  },
  {
   "cell_type": "code",
   "execution_count": 26,
   "metadata": {},
   "outputs": [
    {
     "data": {
      "text/plain": [
       "ds\n",
       "2024-03-28 15:00:00    1\n",
       "2024-03-28 16:00:00    2\n",
       "2024-03-28 17:00:00    2\n",
       "2024-03-28 18:00:00    1\n",
       "2024-03-28 19:00:00    2\n",
       "                      ..\n",
       "2024-04-04 10:00:00    3\n",
       "2024-04-04 11:00:00    3\n",
       "2024-04-04 12:00:00    3\n",
       "2024-04-04 13:00:00    3\n",
       "2024-04-04 14:00:00    3\n",
       "Name: weather_code, Length: 168, dtype: int64"
      ]
     },
     "execution_count": 26,
     "metadata": {},
     "output_type": "execute_result"
    }
   ],
   "source": [
    "output['res_weather_code']['weather_code']"
   ]
  },
  {
   "cell_type": "code",
   "execution_count": 31,
   "metadata": {},
   "outputs": [
    {
     "data": {
      "text/plain": [
       "0      1\n",
       "1      2\n",
       "2      2\n",
       "3      1\n",
       "4      2\n",
       "      ..\n",
       "163    3\n",
       "164    3\n",
       "165    3\n",
       "166    3\n",
       "167    3\n",
       "Name: weather_code, Length: 168, dtype: int64"
      ]
     },
     "execution_count": 31,
     "metadata": {},
     "output_type": "execute_result"
    }
   ],
   "source": [
    "df_reset_drop = df_reset.drop(columns=['ds'])\n",
    "df_reset_drop['weather_code'].astype(int)"
   ]
  },
  {
   "cell_type": "code",
   "execution_count": 33,
   "metadata": {},
   "outputs": [
    {
     "name": "stdout",
     "output_type": "stream",
     "text": [
      "<class 'pandas.core.frame.DataFrame'>\n",
      "RangeIndex: 168 entries, 0 to 167\n",
      "Data columns (total 1 columns):\n",
      " #   Column        Non-Null Count  Dtype\n",
      "---  ------        --------------  -----\n",
      " 0   weather_code  168 non-null    int64\n",
      "dtypes: int64(1)\n",
      "memory usage: 1.4 KB\n"
     ]
    }
   ],
   "source": [
    "df_reset_drop.info()"
   ]
  },
  {
   "cell_type": "code",
   "execution_count": 34,
   "metadata": {},
   "outputs": [
    {
     "data": {
      "text/html": [
       "<div>\n",
       "<style scoped>\n",
       "    .dataframe tbody tr th:only-of-type {\n",
       "        vertical-align: middle;\n",
       "    }\n",
       "\n",
       "    .dataframe tbody tr th {\n",
       "        vertical-align: top;\n",
       "    }\n",
       "\n",
       "    .dataframe thead th {\n",
       "        text-align: right;\n",
       "    }\n",
       "</style>\n",
       "<table border=\"1\" class=\"dataframe\">\n",
       "  <thead>\n",
       "    <tr style=\"text-align: right;\">\n",
       "      <th></th>\n",
       "      <th>weather_code</th>\n",
       "    </tr>\n",
       "  </thead>\n",
       "  <tbody>\n",
       "    <tr>\n",
       "      <th>0</th>\n",
       "      <td>1</td>\n",
       "    </tr>\n",
       "    <tr>\n",
       "      <th>1</th>\n",
       "      <td>2</td>\n",
       "    </tr>\n",
       "    <tr>\n",
       "      <th>2</th>\n",
       "      <td>2</td>\n",
       "    </tr>\n",
       "    <tr>\n",
       "      <th>3</th>\n",
       "      <td>1</td>\n",
       "    </tr>\n",
       "    <tr>\n",
       "      <th>4</th>\n",
       "      <td>2</td>\n",
       "    </tr>\n",
       "    <tr>\n",
       "      <th>...</th>\n",
       "      <td>...</td>\n",
       "    </tr>\n",
       "    <tr>\n",
       "      <th>163</th>\n",
       "      <td>3</td>\n",
       "    </tr>\n",
       "    <tr>\n",
       "      <th>164</th>\n",
       "      <td>3</td>\n",
       "    </tr>\n",
       "    <tr>\n",
       "      <th>165</th>\n",
       "      <td>3</td>\n",
       "    </tr>\n",
       "    <tr>\n",
       "      <th>166</th>\n",
       "      <td>3</td>\n",
       "    </tr>\n",
       "    <tr>\n",
       "      <th>167</th>\n",
       "      <td>3</td>\n",
       "    </tr>\n",
       "  </tbody>\n",
       "</table>\n",
       "<p>168 rows × 1 columns</p>\n",
       "</div>"
      ],
      "text/plain": [
       "     weather_code\n",
       "0               1\n",
       "1               2\n",
       "2               2\n",
       "3               1\n",
       "4               2\n",
       "..            ...\n",
       "163             3\n",
       "164             3\n",
       "165             3\n",
       "166             3\n",
       "167             3\n",
       "\n",
       "[168 rows x 1 columns]"
      ]
     },
     "execution_count": 34,
     "metadata": {},
     "output_type": "execute_result"
    }
   ],
   "source": [
    "df_reset_drop"
   ]
  },
  {
   "cell_type": "code",
   "execution_count": null,
   "metadata": {},
   "outputs": [],
   "source": []
  }
 ],
 "metadata": {
  "kernelspec": {
   "display_name": "market",
   "language": "python",
   "name": "python3"
  },
  "language_info": {
   "codemirror_mode": {
    "name": "ipython",
    "version": 3
   },
   "file_extension": ".py",
   "mimetype": "text/x-python",
   "name": "python",
   "nbconvert_exporter": "python",
   "pygments_lexer": "ipython3",
   "version": "3.11.6"
  }
 },
 "nbformat": 4,
 "nbformat_minor": 2
}
